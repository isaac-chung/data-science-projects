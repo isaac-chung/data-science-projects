{
 "cells": [
  {
   "cell_type": "markdown",
   "metadata": {},
   "source": [
    "# Demo: Used vehicle data for sedans"
   ]
  },
  {
   "cell_type": "markdown",
   "metadata": {},
   "source": [
    "## Background\n",
    "I want to find out what the used sedan market looks like in Toronto, so that I can price the sale of a family sized sedan appropriately. Data is taken from a used car trading website with a filter of 50km from my postal code. The web scraping script takes about a few seconds to run. Gathering 15 pages of search results gives us about 1600 entries. The following presents the data cleaning and analysis procedures.\n",
    "\n",
    "**Purpose**\n",
    "\n",
    "This is an example of a real-world regression problem. The dataset consists of continuous and categorical data, and we are interested in using this dataset to train machine learning model(s) to predict used vehicle prices.\n",
    "\n",
    "(Machine Learning -> Supervised Learning -> Regression)"
   ]
  },
  {
   "cell_type": "markdown",
   "metadata": {},
   "source": [
    "## Step 1: Import the libraries needed and the data."
   ]
  },
  {
   "cell_type": "code",
   "execution_count": 1,
   "metadata": {},
   "outputs": [],
   "source": [
    "import pandas as pd\n",
    "import seaborn as sns\n",
    "import matplotlib.pyplot as plt\n",
    "%matplotlib inline\n",
    "\n",
    "df = pd.read_csv('autotrader.csv')"
   ]
  },
  {
   "cell_type": "markdown",
   "metadata": {},
   "source": [
    "Let's take a look at what the data looks like. We can see the first 5 rows and all the columns of the dataframe."
   ]
  },
  {
   "cell_type": "code",
   "execution_count": 2,
   "metadata": {},
   "outputs": [
    {
     "data": {
      "text/html": [
       "<div>\n",
       "<style scoped>\n",
       "    .dataframe tbody tr th:only-of-type {\n",
       "        vertical-align: middle;\n",
       "    }\n",
       "\n",
       "    .dataframe tbody tr th {\n",
       "        vertical-align: top;\n",
       "    }\n",
       "\n",
       "    .dataframe thead th {\n",
       "        text-align: right;\n",
       "    }\n",
       "</style>\n",
       "<table border=\"1\" class=\"dataframe\">\n",
       "  <thead>\n",
       "    <tr style=\"text-align: right;\">\n",
       "      <th></th>\n",
       "      <th>Cars</th>\n",
       "      <th>Price</th>\n",
       "      <th>Mileage</th>\n",
       "    </tr>\n",
       "  </thead>\n",
       "  <tbody>\n",
       "    <tr>\n",
       "      <th>0</th>\n",
       "      <td>2015 Audi A3 4dr Sdn quattro 2.0T Technik</td>\n",
       "      <td>$20,555</td>\n",
       "      <td>Mileage 90,000 km</td>\n",
       "    </tr>\n",
       "    <tr>\n",
       "      <th>1</th>\n",
       "      <td>2015 Hyundai Genesis Sedan 4dr Sdn Technology</td>\n",
       "      <td>$19,999</td>\n",
       "      <td>Mileage 98,852 km</td>\n",
       "    </tr>\n",
       "    <tr>\n",
       "      <th>2</th>\n",
       "      <td>2013 Audi A6 4dr Sdn quattro 3.0T Premium</td>\n",
       "      <td>$19,500</td>\n",
       "      <td>Mileage 58,000 km</td>\n",
       "    </tr>\n",
       "    <tr>\n",
       "      <th>3</th>\n",
       "      <td>2016 Hyundai Sonata 4dr Sdn 2.4L Auto GL</td>\n",
       "      <td>$12,999</td>\n",
       "      <td>Mileage 68,000 km</td>\n",
       "    </tr>\n",
       "    <tr>\n",
       "      <th>4</th>\n",
       "      <td>2016 Kia Forte 4dr Sdn Auto EX w/Sunroof</td>\n",
       "      <td>$11,900</td>\n",
       "      <td>Mileage 60,000 km</td>\n",
       "    </tr>\n",
       "  </tbody>\n",
       "</table>\n",
       "</div>"
      ],
      "text/plain": [
       "                                            Cars    Price            Mileage\n",
       "0      2015 Audi A3 4dr Sdn quattro 2.0T Technik  $20,555  Mileage 90,000 km\n",
       "1  2015 Hyundai Genesis Sedan 4dr Sdn Technology  $19,999  Mileage 98,852 km\n",
       "2      2013 Audi A6 4dr Sdn quattro 3.0T Premium  $19,500  Mileage 58,000 km\n",
       "3       2016 Hyundai Sonata 4dr Sdn 2.4L Auto GL  $12,999  Mileage 68,000 km\n",
       "4       2016 Kia Forte 4dr Sdn Auto EX w/Sunroof  $11,900  Mileage 60,000 km"
      ]
     },
     "execution_count": 2,
     "metadata": {},
     "output_type": "execute_result"
    }
   ],
   "source": [
    "df.head()"
   ]
  },
  {
   "cell_type": "markdown",
   "metadata": {},
   "source": [
    "## Step 2: Data Cleaning\n",
    "We clean up the 'Price' and 'Mileage' columns by stripping the unwanted texts and converting the contents to numerical values."
   ]
  },
  {
   "cell_type": "code",
   "execution_count": 3,
   "metadata": {},
   "outputs": [],
   "source": [
    "df['Mileage'] = pd.to_numeric(df['Mileage'].str.strip('kmMileage,').str.replace(',', ''))\n",
    "df['Price'] = pd.to_numeric(df['Price'].str.strip('$').str.replace(',',''))"
   ]
  },
  {
   "cell_type": "markdown",
   "metadata": {},
   "source": [
    "We then parse through the 'Cars' column to extract the useful information. Notice that not all entries are consistent beyond the [Year/Model/Make] format, i.e. some have '4dr' and some don't, we limit the split columns to those 3 categories."
   ]
  },
  {
   "cell_type": "code",
   "execution_count": 4,
   "metadata": {},
   "outputs": [],
   "source": [
    "df[['Year','Make','Model','Descr']] = df['Cars'].astype('str').str.split(n=3,expand=True)\n",
    "df['Age'] = 2020 - pd.to_numeric(df['Year'])"
   ]
  },
  {
   "cell_type": "markdown",
   "metadata": {},
   "source": [
    "Intuitively, we can claim that the price of a used vehicle depends on how old it is and how much mileage it has. This is a simplified way of pricing because it also depends on presence of cosmetic damages, collision history, and so on, but we ignore those in this exercise. \n",
    "\n",
    "We first remove vehicle makes that are not as common from the analysis. Here we empirically define a threshold of 20 counts so that we can drop most of the brands we are not interested in and retain the most entries from the data. "
   ]
  },
  {
   "cell_type": "code",
   "execution_count": 5,
   "metadata": {},
   "outputs": [],
   "source": [
    "df_make = df.groupby(\"Make\")\n",
    "dfm2 = df_make.filter(lambda x: x['Make'].count() > 20)"
   ]
  },
  {
   "cell_type": "markdown",
   "metadata": {},
   "source": [
    "Since we are interested in pricing a moderately used vehicle, we then remove vehicles with mileage that is too high. Here we define a threshold at 500,000km. Finally, we anticipate that there are luxury vehicles and/or electric vehicles in the data, both are not of interest. We then remove vehicles above the average price of an EV at $45,000."
   ]
  },
  {
   "cell_type": "code",
   "execution_count": 6,
   "metadata": {},
   "outputs": [],
   "source": [
    "dfm3 = dfm2[(dfm2.Mileage < 500000) & (dfm2.Mileage > 20000)]\n",
    "dfm3 = dfm3[dfm3.Price < 45000]"
   ]
  },
  {
   "cell_type": "code",
   "execution_count": 7,
   "metadata": {},
   "outputs": [
    {
     "name": "stderr",
     "output_type": "stream",
     "text": [
      "C:\\test\\lib\\site-packages\\seaborn\\categorical.py:3666: UserWarning: The `factorplot` function has been renamed to `catplot`. The original name will be removed in a future release. Please update your code. Note that the default `kind` in `factorplot` (`'point'`) has changed `'strip'` in `catplot`.\n",
      "  warnings.warn(msg)\n"
     ]
    },
    {
     "name": "stdout",
     "output_type": "stream",
     "text": [
      "Data kept for analysis: 88 percent of the entire set\n"
     ]
    },
    {
     "data": {
      "image/png": "[encoded data removed]",
      "text/plain": [
       "<Figure size 576x288 with 1 Axes>"
      ]
     },
     "metadata": {
      "needs_background": "light"
     },
     "output_type": "display_data"
    }
   ],
   "source": [
    "sns.factorplot(\"Make\", data=dfm3, aspect=2, kind=\"count\", color='steelblue', height=4)\n",
    "ax = plt.gca()\n",
    "for p in ax.patches:\n",
    "    ax.text(p.get_x() + p.get_width()/2., p.get_height(), '%d' % int(p.get_height()), \n",
    "            fontsize=12, color='red', ha='center', va='bottom')\n",
    "    \n",
    "a = ax.set_xticklabels(ax.get_xticklabels(),rotation=45,horizontalalignment='right')\n",
    "\n",
    "print(\"Data kept for analysis: %d percent of the entire set\" % (100 * dfm3['Cars'].count() / df['Cars'].count()))"
   ]
  },
  {
   "cell_type": "markdown",
   "metadata": {},
   "source": [
    "Notice that not a lot of vehicles are removed from these 3 constraints. We can deduce that perhaps these constraints fostered the removal of outliers as suspected. \n",
    "\n",
    "## Step 3: Data Visualization\n",
    "Let's take a look at what data we have on hand. First we look at some simple description."
   ]
  },
  {
   "cell_type": "markdown",
   "metadata": {},
   "source": [
    "Then we look at distributions of prices and mileage."
   ]
  },
  {
   "cell_type": "code",
   "execution_count": 8,
   "metadata": {},
   "outputs": [
    {
     "data": {
      "text/plain": [
       "[Text(0.5, 0, 'Price in CAD'), Text(0.5, 1.0, 'Price distribution')]"
      ]
     },
     "execution_count": 8,
     "metadata": {},
     "output_type": "execute_result"
    },
    {
     "data": {
      "image/png": "[encoded data removed]",
      "text/plain": [
       "<Figure size 432x288 with 1 Axes>"
      ]
     },
     "metadata": {
      "needs_background": "light"
     },
     "output_type": "display_data"
    }
   ],
   "source": [
    "sns.distplot(dfm3['Price'], bins=30).set(title=\"Price distribution\", xlabel=\"Price in CAD\")"
   ]
  },
  {
   "cell_type": "code",
   "execution_count": 9,
   "metadata": {},
   "outputs": [
    {
     "data": {
      "text/plain": [
       "[Text(0.5, 0, 'Mileage in km'), Text(0.5, 1.0, 'Mileage distribution')]"
      ]
     },
     "execution_count": 9,
     "metadata": {},
     "output_type": "execute_result"
    },
    {
     "data": {
      "image/png": "[encoded data removed]",
      "text/plain": [
       "<Figure size 432x288 with 1 Axes>"
      ]
     },
     "metadata": {
      "needs_background": "light"
     },
     "output_type": "display_data"
    }
   ],
   "source": [
    "sns.distplot(dfm3['Mileage'], bins=30).set(title=\"Mileage distribution\", xlabel=\"Mileage in km\")"
   ]
  },
  {
   "cell_type": "code",
   "execution_count": 10,
   "metadata": {},
   "outputs": [
    {
     "data": {
      "image/png": "[encoded data removed]",
      "text/plain": [
       "<Figure size 576x288 with 1 Axes>"
      ]
     },
     "metadata": {
      "needs_background": "light"
     },
     "output_type": "display_data"
    }
   ],
   "source": [
    "sns.factorplot(\"Year\", data=dfm3, aspect=2, kind=\"count\", color='steelblue', height=4)\n",
    "ax = plt.gca()\n",
    "for p in ax.patches:\n",
    "    ax.text(p.get_x() + p.get_width()/2., p.get_height(), '%d' % int(p.get_height()), \n",
    "            fontsize=12, color='red', ha='center', va='bottom')"
   ]
  },
  {
   "cell_type": "code",
   "execution_count": 11,
   "metadata": {},
   "outputs": [
    {
     "data": {
      "text/plain": [
       "<seaborn.axisgrid.JointGrid at 0x1b5a7731898>"
      ]
     },
     "execution_count": 11,
     "metadata": {},
     "output_type": "execute_result"
    },
    {
     "data": {
      "image/png": "[encoded data removed]",
      "text/plain": [
       "<Figure size 288x288 with 3 Axes>"
      ]
     },
     "metadata": {
      "needs_background": "light"
     },
     "output_type": "display_data"
    },
    {
     "data": {
      "image/png": "[encoded data removed]",
      "text/plain": [
       "<Figure size 288x288 with 3 Axes>"
      ]
     },
     "metadata": {
      "needs_background": "light"
     },
     "output_type": "display_data"
    },
    {
     "data": {
      "image/png": "[encoded data removed]",
      "text/plain": [
       "<Figure size 288x288 with 3 Axes>"
      ]
     },
     "metadata": {
      "needs_background": "light"
     },
     "output_type": "display_data"
    }
   ],
   "source": [
    "sns.jointplot(\"Price\", \"Mileage\", dfm3, kind='kde', height=4)\n",
    "sns.jointplot(\"Price\", \"Age\", dfm3, kind='kde', height=4)\n",
    "sns.jointplot(\"Age\", \"Mileage\", dfm3, kind='kde', height=4)"
   ]
  },
  {
   "cell_type": "markdown",
   "metadata": {},
   "source": [
    "We can notice a few trends off the bat. As expected, the age of the vehicle positively correlate to the mileage of the vehicle. The older the vehicle, the longer it's been driven. Both the age and the mileage of the vehicle are negatively correlated to the price of the vehicle. The older the vehicle, the lower the offer price. \n",
    "\n",
    "## Step 4: Feature Engineering\n",
    "\n",
    "There is an imbalance in the number of vehicles from each year, and thus throws off the prices and mileage distrbution. Outliers exist in the form of older vehicles that have low mileage and thus higher prices. \n",
    "\n",
    "We can also study if the make of the vehicles play a part. There is also an imbalance in the make of the vehicles. E.g. Honda has 173 entries and Ford has 56 entries. \n",
    "\n",
    "There are a few ways of dealing with the imbalance issue. One way is to weight some of the features to offset for the imbalance in entries. We can leverage the average age of each make, and create a weighted feature where the age of each vehicle is divided by the respective make average age."
   ]
  },
  {
   "cell_type": "code",
   "execution_count": 12,
   "metadata": {},
   "outputs": [
    {
     "data": {
      "text/html": [
       "<div>\n",
       "<style scoped>\n",
       "    .dataframe tbody tr th:only-of-type {\n",
       "        vertical-align: middle;\n",
       "    }\n",
       "\n",
       "    .dataframe tbody tr th {\n",
       "        vertical-align: top;\n",
       "    }\n",
       "\n",
       "    .dataframe thead th {\n",
       "        text-align: right;\n",
       "    }\n",
       "</style>\n",
       "<table border=\"1\" class=\"dataframe\">\n",
       "  <thead>\n",
       "    <tr style=\"text-align: right;\">\n",
       "      <th></th>\n",
       "      <th>Price</th>\n",
       "      <th>Mileage</th>\n",
       "      <th>Year</th>\n",
       "      <th>Make</th>\n",
       "      <th>Model</th>\n",
       "      <th>Age</th>\n",
       "      <th>Make_avg_age</th>\n",
       "      <th>Make_avg_mileage</th>\n",
       "      <th>weighted_age</th>\n",
       "      <th>weighted_mileage</th>\n",
       "    </tr>\n",
       "  </thead>\n",
       "  <tbody>\n",
       "    <tr>\n",
       "      <th>0</th>\n",
       "      <td>20555</td>\n",
       "      <td>90000</td>\n",
       "      <td>2015</td>\n",
       "      <td>Audi</td>\n",
       "      <td>A3</td>\n",
       "      <td>5</td>\n",
       "      <td>8.188034</td>\n",
       "      <td>131388.128205</td>\n",
       "      <td>0.610647</td>\n",
       "      <td>0.684993</td>\n",
       "    </tr>\n",
       "    <tr>\n",
       "      <th>1</th>\n",
       "      <td>19999</td>\n",
       "      <td>98852</td>\n",
       "      <td>2015</td>\n",
       "      <td>Hyundai</td>\n",
       "      <td>Genesis</td>\n",
       "      <td>5</td>\n",
       "      <td>5.796610</td>\n",
       "      <td>108532.415254</td>\n",
       "      <td>0.862573</td>\n",
       "      <td>0.910806</td>\n",
       "    </tr>\n",
       "    <tr>\n",
       "      <th>2</th>\n",
       "      <td>19500</td>\n",
       "      <td>58000</td>\n",
       "      <td>2013</td>\n",
       "      <td>Audi</td>\n",
       "      <td>A6</td>\n",
       "      <td>7</td>\n",
       "      <td>8.188034</td>\n",
       "      <td>131388.128205</td>\n",
       "      <td>0.854906</td>\n",
       "      <td>0.441440</td>\n",
       "    </tr>\n",
       "    <tr>\n",
       "      <th>3</th>\n",
       "      <td>12999</td>\n",
       "      <td>68000</td>\n",
       "      <td>2016</td>\n",
       "      <td>Hyundai</td>\n",
       "      <td>Sonata</td>\n",
       "      <td>4</td>\n",
       "      <td>5.796610</td>\n",
       "      <td>108532.415254</td>\n",
       "      <td>0.690058</td>\n",
       "      <td>0.626541</td>\n",
       "    </tr>\n",
       "    <tr>\n",
       "      <th>4</th>\n",
       "      <td>11900</td>\n",
       "      <td>60000</td>\n",
       "      <td>2016</td>\n",
       "      <td>Kia</td>\n",
       "      <td>Forte</td>\n",
       "      <td>4</td>\n",
       "      <td>6.547170</td>\n",
       "      <td>116984.735849</td>\n",
       "      <td>0.610951</td>\n",
       "      <td>0.512887</td>\n",
       "    </tr>\n",
       "  </tbody>\n",
       "</table>\n",
       "</div>"
      ],
      "text/plain": [
       "   Price  Mileage  Year     Make    Model  Age  Make_avg_age  \\\n",
       "0  20555    90000  2015     Audi       A3    5      8.188034   \n",
       "1  19999    98852  2015  Hyundai  Genesis    5      5.796610   \n",
       "2  19500    58000  2013     Audi       A6    7      8.188034   \n",
       "3  12999    68000  2016  Hyundai   Sonata    4      5.796610   \n",
       "4  11900    60000  2016      Kia    Forte    4      6.547170   \n",
       "\n",
       "   Make_avg_mileage  weighted_age  weighted_mileage  \n",
       "0     131388.128205      0.610647          0.684993  \n",
       "1     108532.415254      0.862573          0.910806  \n",
       "2     131388.128205      0.854906          0.441440  \n",
       "3     108532.415254      0.690058          0.626541  \n",
       "4     116984.735849      0.610951          0.512887  "
      ]
     },
     "execution_count": 12,
     "metadata": {},
     "output_type": "execute_result"
    }
   ],
   "source": [
    "# obtain average age of each make\n",
    "dfam = dfm3.groupby('Make')[\"Age\"].mean()\n",
    "dfmm = dfm3.groupby('Make')[\"Mileage\"].mean()\n",
    "# map to each entry\n",
    "dfm3['Make_avg_age'] = dfm3['Make'].map(dfam.to_dict())\n",
    "dfm3['Make_avg_mileage'] = dfm3['Make'].map(dfmm.to_dict())\n",
    "dfm3['weighted_age'] = dfm3['Age'] / dfm3['Make_avg_age']\n",
    "dfm3['weighted_mileage'] = dfm3['Mileage'] / dfm3['Make_avg_mileage']\n",
    "dfm3.drop(columns=['Cars','Descr']).head()"
   ]
  },
  {
   "cell_type": "code",
   "execution_count": 13,
   "metadata": {},
   "outputs": [],
   "source": [
    "# sns.jointplot(\"Price\", \"Annual_usage\", dfm3, kind='kde', height=4)\n",
    "# sns.jointplot(\"Price\", \"weighted_age\", dfm3, kind='kde', height=4)"
   ]
  },
  {
   "cell_type": "markdown",
   "metadata": {},
   "source": [
    "The 'Model' feature needs to be encoded before being used as a numerical variable for regression. There are a few ways to encode categorical data. An simple way is **One-Hot encoding**, which is to convert each category value into a new column and assign a 0/1 value to the column. Instead of writing our own encoder, we can use the Pandas built-in One-Hot encoder.\n",
    "\n",
    "Moving forward here, we are making some simplifying assumptions. 1) The make (or brand) of the vehicle associate with the market segments (luxury/commodity/etc), which is a main driver of the price. So here we are ignoring the model. 2) we acknowledge that the description could change the value of the used vehicle. It could point out desirable features, or note levels of repair needed. One could investigate if the length of the description affects the price, or even use NLP to give value to the words used. We ignore the description in this exercise. "
   ]
  },
  {
   "cell_type": "code",
   "execution_count": 14,
   "metadata": {},
   "outputs": [
    {
     "data": {
      "text/html": [
       "<div>\n",
       "<style scoped>\n",
       "    .dataframe tbody tr th:only-of-type {\n",
       "        vertical-align: middle;\n",
       "    }\n",
       "\n",
       "    .dataframe tbody tr th {\n",
       "        vertical-align: top;\n",
       "    }\n",
       "\n",
       "    .dataframe thead th {\n",
       "        text-align: right;\n",
       "    }\n",
       "</style>\n",
       "<table border=\"1\" class=\"dataframe\">\n",
       "  <thead>\n",
       "    <tr style=\"text-align: right;\">\n",
       "      <th></th>\n",
       "      <th>Price</th>\n",
       "      <th>weighted_mileage</th>\n",
       "      <th>weighted_age</th>\n",
       "      <th>_Acura</th>\n",
       "      <th>_Audi</th>\n",
       "      <th>_BMW</th>\n",
       "      <th>_Cadillac</th>\n",
       "      <th>_Chevrolet</th>\n",
       "      <th>_Chrysler</th>\n",
       "      <th>_Dodge</th>\n",
       "      <th>...</th>\n",
       "      <th>_Honda</th>\n",
       "      <th>_Hyundai</th>\n",
       "      <th>_Kia</th>\n",
       "      <th>_Lexus</th>\n",
       "      <th>_Mazda</th>\n",
       "      <th>_Mercedes-Benz</th>\n",
       "      <th>_Nissan</th>\n",
       "      <th>_Subaru</th>\n",
       "      <th>_Toyota</th>\n",
       "      <th>_Volkswagen</th>\n",
       "    </tr>\n",
       "  </thead>\n",
       "  <tbody>\n",
       "    <tr>\n",
       "      <th>0</th>\n",
       "      <td>20555</td>\n",
       "      <td>0.684993</td>\n",
       "      <td>0.610647</td>\n",
       "      <td>0</td>\n",
       "      <td>1</td>\n",
       "      <td>0</td>\n",
       "      <td>0</td>\n",
       "      <td>0</td>\n",
       "      <td>0</td>\n",
       "      <td>0</td>\n",
       "      <td>...</td>\n",
       "      <td>0</td>\n",
       "      <td>0</td>\n",
       "      <td>0</td>\n",
       "      <td>0</td>\n",
       "      <td>0</td>\n",
       "      <td>0</td>\n",
       "      <td>0</td>\n",
       "      <td>0</td>\n",
       "      <td>0</td>\n",
       "      <td>0</td>\n",
       "    </tr>\n",
       "    <tr>\n",
       "      <th>1</th>\n",
       "      <td>19999</td>\n",
       "      <td>0.910806</td>\n",
       "      <td>0.862573</td>\n",
       "      <td>0</td>\n",
       "      <td>0</td>\n",
       "      <td>0</td>\n",
       "      <td>0</td>\n",
       "      <td>0</td>\n",
       "      <td>0</td>\n",
       "      <td>0</td>\n",
       "      <td>...</td>\n",
       "      <td>0</td>\n",
       "      <td>1</td>\n",
       "      <td>0</td>\n",
       "      <td>0</td>\n",
       "      <td>0</td>\n",
       "      <td>0</td>\n",
       "      <td>0</td>\n",
       "      <td>0</td>\n",
       "      <td>0</td>\n",
       "      <td>0</td>\n",
       "    </tr>\n",
       "    <tr>\n",
       "      <th>2</th>\n",
       "      <td>19500</td>\n",
       "      <td>0.441440</td>\n",
       "      <td>0.854906</td>\n",
       "      <td>0</td>\n",
       "      <td>1</td>\n",
       "      <td>0</td>\n",
       "      <td>0</td>\n",
       "      <td>0</td>\n",
       "      <td>0</td>\n",
       "      <td>0</td>\n",
       "      <td>...</td>\n",
       "      <td>0</td>\n",
       "      <td>0</td>\n",
       "      <td>0</td>\n",
       "      <td>0</td>\n",
       "      <td>0</td>\n",
       "      <td>0</td>\n",
       "      <td>0</td>\n",
       "      <td>0</td>\n",
       "      <td>0</td>\n",
       "      <td>0</td>\n",
       "    </tr>\n",
       "    <tr>\n",
       "      <th>3</th>\n",
       "      <td>12999</td>\n",
       "      <td>0.626541</td>\n",
       "      <td>0.690058</td>\n",
       "      <td>0</td>\n",
       "      <td>0</td>\n",
       "      <td>0</td>\n",
       "      <td>0</td>\n",
       "      <td>0</td>\n",
       "      <td>0</td>\n",
       "      <td>0</td>\n",
       "      <td>...</td>\n",
       "      <td>0</td>\n",
       "      <td>1</td>\n",
       "      <td>0</td>\n",
       "      <td>0</td>\n",
       "      <td>0</td>\n",
       "      <td>0</td>\n",
       "      <td>0</td>\n",
       "      <td>0</td>\n",
       "      <td>0</td>\n",
       "      <td>0</td>\n",
       "    </tr>\n",
       "    <tr>\n",
       "      <th>4</th>\n",
       "      <td>11900</td>\n",
       "      <td>0.512887</td>\n",
       "      <td>0.610951</td>\n",
       "      <td>0</td>\n",
       "      <td>0</td>\n",
       "      <td>0</td>\n",
       "      <td>0</td>\n",
       "      <td>0</td>\n",
       "      <td>0</td>\n",
       "      <td>0</td>\n",
       "      <td>...</td>\n",
       "      <td>0</td>\n",
       "      <td>0</td>\n",
       "      <td>1</td>\n",
       "      <td>0</td>\n",
       "      <td>0</td>\n",
       "      <td>0</td>\n",
       "      <td>0</td>\n",
       "      <td>0</td>\n",
       "      <td>0</td>\n",
       "      <td>0</td>\n",
       "    </tr>\n",
       "  </tbody>\n",
       "</table>\n",
       "<p>5 rows × 21 columns</p>\n",
       "</div>"
      ],
      "text/plain": [
       "   Price  weighted_mileage  weighted_age  _Acura  _Audi  _BMW  _Cadillac  \\\n",
       "0  20555          0.684993      0.610647       0      1     0          0   \n",
       "1  19999          0.910806      0.862573       0      0     0          0   \n",
       "2  19500          0.441440      0.854906       0      1     0          0   \n",
       "3  12999          0.626541      0.690058       0      0     0          0   \n",
       "4  11900          0.512887      0.610951       0      0     0          0   \n",
       "\n",
       "   _Chevrolet  _Chrysler  _Dodge  ...  _Honda  _Hyundai  _Kia  _Lexus  _Mazda  \\\n",
       "0           0          0       0  ...       0         0     0       0       0   \n",
       "1           0          0       0  ...       0         1     0       0       0   \n",
       "2           0          0       0  ...       0         0     0       0       0   \n",
       "3           0          0       0  ...       0         1     0       0       0   \n",
       "4           0          0       0  ...       0         0     1       0       0   \n",
       "\n",
       "   _Mercedes-Benz  _Nissan  _Subaru  _Toyota  _Volkswagen  \n",
       "0               0        0        0        0            0  \n",
       "1               0        0        0        0            0  \n",
       "2               0        0        0        0            0  \n",
       "3               0        0        0        0            0  \n",
       "4               0        0        0        0            0  \n",
       "\n",
       "[5 rows x 21 columns]"
      ]
     },
     "execution_count": 14,
     "metadata": {},
     "output_type": "execute_result"
    }
   ],
   "source": [
    "df_onehot = dfm3.copy()\n",
    "# df_onehot = df_onehot[[\"Price\",\"Mileage\",\"weighted_mileage\",\"Make\",\"Age\",\"weighted_age\",\"Annual_usage\"]]\n",
    "df_onehot = df_onehot[[\"Price\",\"weighted_mileage\",\"Make\",\"weighted_age\"]]\n",
    "df_onehot = pd.get_dummies(df_onehot,columns=['Make'], prefix=[''])\n",
    "\n",
    "df_onehot.head()"
   ]
  },
  {
   "cell_type": "markdown",
   "metadata": {},
   "source": [
    "## Step 5: Model Selection"
   ]
  },
  {
   "cell_type": "code",
   "execution_count": 15,
   "metadata": {},
   "outputs": [
    {
     "data": {
      "text/html": [
       "<div>\n",
       "<style scoped>\n",
       "    .dataframe tbody tr th:only-of-type {\n",
       "        vertical-align: middle;\n",
       "    }\n",
       "\n",
       "    .dataframe tbody tr th {\n",
       "        vertical-align: top;\n",
       "    }\n",
       "\n",
       "    .dataframe thead th {\n",
       "        text-align: right;\n",
       "    }\n",
       "</style>\n",
       "<table border=\"1\" class=\"dataframe\">\n",
       "  <thead>\n",
       "    <tr style=\"text-align: right;\">\n",
       "      <th></th>\n",
       "      <th>Price</th>\n",
       "      <th>weighted_mileage</th>\n",
       "      <th>weighted_age</th>\n",
       "      <th>_Acura</th>\n",
       "      <th>_Audi</th>\n",
       "      <th>_BMW</th>\n",
       "      <th>_Cadillac</th>\n",
       "      <th>_Chevrolet</th>\n",
       "      <th>_Chrysler</th>\n",
       "      <th>_Dodge</th>\n",
       "      <th>...</th>\n",
       "      <th>_Honda</th>\n",
       "      <th>_Hyundai</th>\n",
       "      <th>_Kia</th>\n",
       "      <th>_Lexus</th>\n",
       "      <th>_Mazda</th>\n",
       "      <th>_Mercedes-Benz</th>\n",
       "      <th>_Nissan</th>\n",
       "      <th>_Subaru</th>\n",
       "      <th>_Toyota</th>\n",
       "      <th>_Volkswagen</th>\n",
       "    </tr>\n",
       "  </thead>\n",
       "  <tbody>\n",
       "    <tr>\n",
       "      <th>0</th>\n",
       "      <td>20555</td>\n",
       "      <td>0.205063</td>\n",
       "      <td>0.181856</td>\n",
       "      <td>0</td>\n",
       "      <td>1</td>\n",
       "      <td>0</td>\n",
       "      <td>0</td>\n",
       "      <td>0</td>\n",
       "      <td>0</td>\n",
       "      <td>0</td>\n",
       "      <td>...</td>\n",
       "      <td>0</td>\n",
       "      <td>0</td>\n",
       "      <td>0</td>\n",
       "      <td>0</td>\n",
       "      <td>0</td>\n",
       "      <td>0</td>\n",
       "      <td>0</td>\n",
       "      <td>0</td>\n",
       "      <td>0</td>\n",
       "      <td>0</td>\n",
       "    </tr>\n",
       "    <tr>\n",
       "      <th>1</th>\n",
       "      <td>19999</td>\n",
       "      <td>0.293237</td>\n",
       "      <td>0.276902</td>\n",
       "      <td>0</td>\n",
       "      <td>0</td>\n",
       "      <td>0</td>\n",
       "      <td>0</td>\n",
       "      <td>0</td>\n",
       "      <td>0</td>\n",
       "      <td>0</td>\n",
       "      <td>...</td>\n",
       "      <td>0</td>\n",
       "      <td>1</td>\n",
       "      <td>0</td>\n",
       "      <td>0</td>\n",
       "      <td>0</td>\n",
       "      <td>0</td>\n",
       "      <td>0</td>\n",
       "      <td>0</td>\n",
       "      <td>0</td>\n",
       "      <td>0</td>\n",
       "    </tr>\n",
       "    <tr>\n",
       "      <th>2</th>\n",
       "      <td>19500</td>\n",
       "      <td>0.109961</td>\n",
       "      <td>0.274010</td>\n",
       "      <td>0</td>\n",
       "      <td>1</td>\n",
       "      <td>0</td>\n",
       "      <td>0</td>\n",
       "      <td>0</td>\n",
       "      <td>0</td>\n",
       "      <td>0</td>\n",
       "      <td>...</td>\n",
       "      <td>0</td>\n",
       "      <td>0</td>\n",
       "      <td>0</td>\n",
       "      <td>0</td>\n",
       "      <td>0</td>\n",
       "      <td>0</td>\n",
       "      <td>0</td>\n",
       "      <td>0</td>\n",
       "      <td>0</td>\n",
       "      <td>0</td>\n",
       "    </tr>\n",
       "    <tr>\n",
       "      <th>3</th>\n",
       "      <td>12999</td>\n",
       "      <td>0.182239</td>\n",
       "      <td>0.211816</td>\n",
       "      <td>0</td>\n",
       "      <td>0</td>\n",
       "      <td>0</td>\n",
       "      <td>0</td>\n",
       "      <td>0</td>\n",
       "      <td>0</td>\n",
       "      <td>0</td>\n",
       "      <td>...</td>\n",
       "      <td>0</td>\n",
       "      <td>1</td>\n",
       "      <td>0</td>\n",
       "      <td>0</td>\n",
       "      <td>0</td>\n",
       "      <td>0</td>\n",
       "      <td>0</td>\n",
       "      <td>0</td>\n",
       "      <td>0</td>\n",
       "      <td>0</td>\n",
       "    </tr>\n",
       "    <tr>\n",
       "      <th>4</th>\n",
       "      <td>11900</td>\n",
       "      <td>0.137860</td>\n",
       "      <td>0.181971</td>\n",
       "      <td>0</td>\n",
       "      <td>0</td>\n",
       "      <td>0</td>\n",
       "      <td>0</td>\n",
       "      <td>0</td>\n",
       "      <td>0</td>\n",
       "      <td>0</td>\n",
       "      <td>...</td>\n",
       "      <td>0</td>\n",
       "      <td>0</td>\n",
       "      <td>1</td>\n",
       "      <td>0</td>\n",
       "      <td>0</td>\n",
       "      <td>0</td>\n",
       "      <td>0</td>\n",
       "      <td>0</td>\n",
       "      <td>0</td>\n",
       "      <td>0</td>\n",
       "    </tr>\n",
       "  </tbody>\n",
       "</table>\n",
       "<p>5 rows × 21 columns</p>\n",
       "</div>"
      ],
      "text/plain": [
       "   Price  weighted_mileage  weighted_age  _Acura  _Audi  _BMW  _Cadillac  \\\n",
       "0  20555          0.205063      0.181856       0      1     0          0   \n",
       "1  19999          0.293237      0.276902       0      0     0          0   \n",
       "2  19500          0.109961      0.274010       0      1     0          0   \n",
       "3  12999          0.182239      0.211816       0      0     0          0   \n",
       "4  11900          0.137860      0.181971       0      0     0          0   \n",
       "\n",
       "   _Chevrolet  _Chrysler  _Dodge  ...  _Honda  _Hyundai  _Kia  _Lexus  _Mazda  \\\n",
       "0           0          0       0  ...       0         0     0       0       0   \n",
       "1           0          0       0  ...       0         1     0       0       0   \n",
       "2           0          0       0  ...       0         0     0       0       0   \n",
       "3           0          0       0  ...       0         1     0       0       0   \n",
       "4           0          0       0  ...       0         0     1       0       0   \n",
       "\n",
       "   _Mercedes-Benz  _Nissan  _Subaru  _Toyota  _Volkswagen  \n",
       "0               0        0        0        0            0  \n",
       "1               0        0        0        0            0  \n",
       "2               0        0        0        0            0  \n",
       "3               0        0        0        0            0  \n",
       "4               0        0        0        0            0  \n",
       "\n",
       "[5 rows x 21 columns]"
      ]
     },
     "execution_count": 15,
     "metadata": {},
     "output_type": "execute_result"
    }
   ],
   "source": [
    "from sklearn.preprocessing import MinMaxScaler\n",
    "scaler = MinMaxScaler()\n",
    "df_onehot[[\"weighted_mileage\",\"weighted_age\"]] = scaler.fit_transform(df_onehot[[\"weighted_mileage\",\"weighted_age\"]])\n",
    "# df_onehot[[\"Mileage\",\"weighted_mileage\",\"Age\",\"weighted_age\",\"Annual_usage\"]] = scaler.fit_transform(df_onehot[[\"Mileage\",\"weighted_mileage\",\"Age\",\"weighted_age\",\"Annual_usage\"]])\n",
    "df_onehot.head()"
   ]
  },
  {
   "cell_type": "code",
   "execution_count": 16,
   "metadata": {},
   "outputs": [
    {
     "name": "stdout",
     "output_type": "stream",
     "text": [
      "Fitting 3 folds for each of 20 candidates, totalling 60 fits\n"
     ]
    },
    {
     "name": "stderr",
     "output_type": "stream",
     "text": [
      "[Parallel(n_jobs=-1)]: Using backend LokyBackend with 4 concurrent workers.\n",
      "[Parallel(n_jobs=-1)]: Done  42 tasks      | elapsed:    5.6s\n",
      "[Parallel(n_jobs=-1)]: Done  60 out of  60 | elapsed:    6.4s finished\n"
     ]
    },
    {
     "name": "stdout",
     "output_type": "stream",
     "text": [
      "Fitting 3 folds for each of 20 candidates, totalling 60 fits\n"
     ]
    },
    {
     "name": "stderr",
     "output_type": "stream",
     "text": [
      "[Parallel(n_jobs=-1)]: Using backend LokyBackend with 4 concurrent workers.\n",
      "[Parallel(n_jobs=-1)]: Done  60 out of  60 | elapsed:    5.4s finished\n"
     ]
    },
    {
     "name": "stdout",
     "output_type": "stream",
     "text": [
      "Fitting 3 folds for each of 36 candidates, totalling 108 fits\n"
     ]
    },
    {
     "name": "stderr",
     "output_type": "stream",
     "text": [
      "[Parallel(n_jobs=-1)]: Using backend LokyBackend with 4 concurrent workers.\n",
      "[Parallel(n_jobs=-1)]: Done  42 tasks      | elapsed:   16.6s\n",
      "[Parallel(n_jobs=-1)]: Done 108 out of 108 | elapsed:   40.4s finished\n"
     ]
    }
   ],
   "source": [
    "from sklearn.linear_model import BayesianRidge, ARDRegression, LinearRegression\n",
    "from sklearn.tree import DecisionTreeRegressor\n",
    "from sklearn.ensemble import RandomForestRegressor\n",
    "from sklearn.svm import SVR\n",
    "from sklearn.model_selection import train_test_split\n",
    "from sklearn.model_selection import GridSearchCV\n",
    "import numpy as np\n",
    "\n",
    "X = df_onehot.drop(columns=[\"Price\"])\n",
    "y = df_onehot[\"Price\"]\n",
    "\n",
    "X_train, X_test, y_train, y_test = train_test_split(X, y, test_size=0.1, random_state=42)\n",
    "\n",
    "# Fit the Regression models\n",
    "ard = ARDRegression(compute_score=True)\n",
    "ard.fit(X_train,y_train)\n",
    "\n",
    "ols = LinearRegression()\n",
    "ols.fit(X_train,y_train)\n",
    "\n",
    "svr = GridSearchCV(SVR(kernel='rbf', gamma=1.),\n",
    "                   param_grid={\"C\": [1e0, 1e1, 1e2, 1e3],\n",
    "                               \"gamma\": np.logspace(-2, 2, 5)}, cv=3, n_jobs=-1, verbose=1)\n",
    "svr.fit(X_train,y_train)\n",
    "\n",
    "linsvr = GridSearchCV(SVR(kernel='linear', gamma='auto'),\n",
    "                   param_grid={\"C\": [1e0, 1e1, 1e2, 1e3],\n",
    "                               \"gamma\": np.logspace(-2, 2, 5)}, cv=3, n_jobs=-1, verbose=1)\n",
    "linsvr.fit(X_train,y_train)\n",
    "\n",
    "\n",
    "rf = RandomForestRegressor()\n",
    "\n",
    "param_grid = { \"criterion\" : [\"mse\"]\n",
    "              , \"min_samples_leaf\" : [3,5,7]\n",
    "              , \"min_samples_split\" : [3,5,7]\n",
    "              , \"max_depth\": [5,10]\n",
    "              , \"n_estimators\": [100,500]}\n",
    "\n",
    "gs = GridSearchCV(estimator=rf, param_grid=param_grid, cv=3, n_jobs=-1, verbose=1)\n",
    "gs = gs.fit(X_train, y_train)"
   ]
  },
  {
   "cell_type": "code",
   "execution_count": 17,
   "metadata": {},
   "outputs": [
    {
     "name": "stdout",
     "output_type": "stream",
     "text": [
      "Random Forest: 0.754\n",
      "SVM Regressor: 0.617\n",
      "Linear SVM Regressor: 0.632\n",
      "ARD Regressor: 0.704\n",
      "Linear Regression: 0.703\n"
     ]
    }
   ],
   "source": [
    "print('Random Forest: %.3f' %gs.best_score_)\n",
    "print('SVM Regressor: %.3f' %svr.best_score_)\n",
    "print('Linear SVM Regressor: %.3f' %linsvr.best_score_)\n",
    "print('ARD Regressor: %.3f' %ard.score(X_test,y_test))\n",
    "print('Linear Regression: %.3f' %ols.score(X_test,y_test))"
   ]
  },
  {
   "cell_type": "code",
   "execution_count": 18,
   "metadata": {},
   "outputs": [
    {
     "data": {
      "text/plain": [
       "(-1, 20)"
      ]
     },
     "execution_count": 18,
     "metadata": {},
     "output_type": "execute_result"
    },
    {
     "data": {
      "image/png": "[encoded data removed]",
      "text/plain": [
       "<Figure size 432x288 with 1 Axes>"
      ]
     },
     "metadata": {
      "needs_background": "light"
     },
     "output_type": "display_data"
    }
   ],
   "source": [
    "params = gs.best_params_\n",
    "forest = RandomForestRegressor(criterion=params['criterion'], min_samples_leaf=params['min_samples_leaf'],\n",
    "                              min_samples_split=params['min_samples_split'], max_depth=params['max_depth'],\n",
    "                              n_estimators=params['n_estimators'])\n",
    "forest.fit(X_train, y_train)\n",
    "\n",
    "importances = forest.feature_importances_\n",
    "indices = np.argsort(importances)[::-1]\n",
    "\n",
    "plt.figure()\n",
    "plt.title(\"Feature importances\")\n",
    "plt.bar(range(X.shape[1]), importances[indices], color=\"r\", align=\"center\",tick_label = X_train.columns.values)\n",
    "# plt.xticks(range(X.shape[1]), indices)\n",
    "\n",
    "plt.xticks(range(X.shape[1]), X.columns.values[indices],rotation=45,horizontalalignment='right')\n",
    "plt.xlim([-1, X.shape[1]])"
   ]
  },
  {
   "cell_type": "markdown",
   "metadata": {},
   "source": [
    "Weighted age turns out to the most dominant feature of all, with weighted mileage in second most important. It is interesting that even after creating weighted features, the makes of Mercedes, Audi, and BMW still managed to be among the most important features. These brands may (and they most likely do) portray a higher standard of quality that retains after the first hand of purchase. "
   ]
  },
  {
   "cell_type": "code",
   "execution_count": 19,
   "metadata": {},
   "outputs": [],
   "source": [
    "# sns.regplot(x='Price',y='weighted_age', data=dfm3, logx=True, line_kws={'color':'red'})"
   ]
  },
  {
   "cell_type": "markdown",
   "metadata": {},
   "source": [
    "## Step 6: Prediction\n",
    "\n",
    "Let's not get caught up in all the details and lose track of our goal here: to predict used vehicle prices. Foe example, the car we want to sell is a 2015 Hyundai Sonata with 112000km of mileage. "
   ]
  },
  {
   "cell_type": "code",
   "execution_count": 20,
   "metadata": {},
   "outputs": [],
   "source": [
    "# Convert to input data and scale the mileage and age.\n",
    "w_a = 5/dfam['Hyundai']\n",
    "w_m = 112000/dfmm['Hyundai']\n",
    "x_raw = np.array([w_m,w_a,0,0,0,0,0,0,0,0,0,1,0,0,0,0,0,0,0,0])\n",
    "x_raw[:2] = scaler.transform(x_raw[:2].reshape(1,-1))"
   ]
  },
  {
   "cell_type": "code",
   "execution_count": 21,
   "metadata": {},
   "outputs": [
    {
     "name": "stdout",
     "output_type": "stream",
     "text": [
      "Random Forest: 13403\n",
      "SVM Regressor: 10824\n",
      "Linear SVM Regressor: 11231\n",
      "ARD Regressor: 12174\n",
      "Linear Regression: 12347\n"
     ]
    }
   ],
   "source": [
    "print('Random Forest: %.0f' %gs.predict(x_raw.reshape(1, -1)))\n",
    "print('SVM Regressor: %.0f' %svr.predict(x_raw.reshape(1, -1)))\n",
    "print('Linear SVM Regressor: %.0f' %linsvr.predict(x_raw.reshape(1, -1)))\n",
    "print('ARD Regressor: %.0f' %ard.predict(x_raw.reshape(1, -1)))\n",
    "print('Linear Regression: %.0f' %ols.predict(x_raw.reshape(1, -1)))"
   ]
  },
  {
   "cell_type": "markdown",
   "metadata": {},
   "source": [
    "## Conclusion\n",
    "This demo was meant to showcase my understanding in data interpretation and selection, feature selection and engineering, data visualization, and usage of off-the-shelf ML algorithms. It is interesting to note that a fair price for  this is actually very close and slightly higher than what's predicted by these models."
   ]
  },
  {
   "cell_type": "code",
   "execution_count": null,
   "metadata": {},
   "outputs": [],
   "source": []
  }
 ],
 "metadata": {
  "kernelspec": {
   "display_name": "Python 3",
   "language": "python",
   "name": "python3"
  },
  "language_info": {
   "codemirror_mode": {
    "name": "ipython",
    "version": 3
   },
   "file_extension": ".py",
   "mimetype": "text/x-python",
   "name": "python",
   "nbconvert_exporter": "python",
   "pygments_lexer": "ipython3",
   "version": "3.7.3"
  }
 },
 "nbformat": 4,
 "nbformat_minor": 4
}
