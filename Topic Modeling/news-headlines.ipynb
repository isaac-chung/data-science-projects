{
 "cells": [
  {
   "cell_type": "markdown",
   "metadata": {},
   "source": [
    "## One Million News Headlines\n",
    "\n",
    "We are interested in the news headlines topics in the past two decades. What has been on the news?\n",
    "\n",
    "We use the kaggle dataset that contains news headlines published over a period of seventeen years (2003-2019) by ABC (Australian Broadcasting Corp). \n",
    "\n",
    "We also use [this kaggle kernel](https://www.kaggle.com/ktattan/lda-and-document-similarity/notebook) and [this notebook on github](https://github.com/franciscadias/projects/blob/master/ABC_News.ipynb) as reference for data cleaning procedures and looking at top 10 words for the top 10 topics. "
   ]
  },
  {
   "cell_type": "code",
   "execution_count": 1,
   "metadata": {},
   "outputs": [],
   "source": [
    "import pandas as pd\n",
    "import numpy as np"
   ]
  },
  {
   "cell_type": "markdown",
   "metadata": {},
   "source": [
    "We first load the dataset and see what we have. This csv file is about 58MB in size, so we could consider storing is in a SQL database. Here we load it directly with pandas. "
   ]
  },
  {
   "cell_type": "code",
   "execution_count": 2,
   "metadata": {},
   "outputs": [
    {
     "data": {
      "text/html": [
       "<div>\n",
       "<style scoped>\n",
       "    .dataframe tbody tr th:only-of-type {\n",
       "        vertical-align: middle;\n",
       "    }\n",
       "\n",
       "    .dataframe tbody tr th {\n",
       "        vertical-align: top;\n",
       "    }\n",
       "\n",
       "    .dataframe thead th {\n",
       "        text-align: right;\n",
       "    }\n",
       "</style>\n",
       "<table border=\"1\" class=\"dataframe\">\n",
       "  <thead>\n",
       "    <tr style=\"text-align: right;\">\n",
       "      <th></th>\n",
       "      <th>publish_date</th>\n",
       "      <th>headline_text</th>\n",
       "    </tr>\n",
       "  </thead>\n",
       "  <tbody>\n",
       "    <tr>\n",
       "      <th>0</th>\n",
       "      <td>2003-02-19</td>\n",
       "      <td>aba decides against community broadcasting lic...</td>\n",
       "    </tr>\n",
       "    <tr>\n",
       "      <th>1</th>\n",
       "      <td>2003-02-19</td>\n",
       "      <td>act fire witnesses must be aware of defamation</td>\n",
       "    </tr>\n",
       "    <tr>\n",
       "      <th>2</th>\n",
       "      <td>2003-02-19</td>\n",
       "      <td>a g calls for infrastructure protection summit</td>\n",
       "    </tr>\n",
       "    <tr>\n",
       "      <th>3</th>\n",
       "      <td>2003-02-19</td>\n",
       "      <td>air nz staff in aust strike for pay rise</td>\n",
       "    </tr>\n",
       "    <tr>\n",
       "      <th>4</th>\n",
       "      <td>2003-02-19</td>\n",
       "      <td>air nz strike to affect australian travellers</td>\n",
       "    </tr>\n",
       "  </tbody>\n",
       "</table>\n",
       "</div>"
      ],
      "text/plain": [
       "  publish_date                                      headline_text\n",
       "0   2003-02-19  aba decides against community broadcasting lic...\n",
       "1   2003-02-19     act fire witnesses must be aware of defamation\n",
       "2   2003-02-19     a g calls for infrastructure protection summit\n",
       "3   2003-02-19           air nz staff in aust strike for pay rise\n",
       "4   2003-02-19      air nz strike to affect australian travellers"
      ]
     },
     "execution_count": 2,
     "metadata": {},
     "output_type": "execute_result"
    }
   ],
   "source": [
    "df = pd.read_csv('abcnews-date-text.csv', parse_dates=['publish_date'])\n",
    "df.head()"
   ]
  },
  {
   "cell_type": "markdown",
   "metadata": {},
   "source": [
    "We then add columns for the year the headlines were published. This will be used in an analysis later."
   ]
  },
  {
   "cell_type": "code",
   "execution_count": 3,
   "metadata": {},
   "outputs": [],
   "source": [
    "df[\"year\"] = df[\"publish_date\"].astype(str).str[:4].astype(np.int64)"
   ]
  },
  {
   "cell_type": "markdown",
   "metadata": {},
   "source": [
    "All rows with missing data is removed. The dataframe is then shuffled and re-indexed."
   ]
  },
  {
   "cell_type": "code",
   "execution_count": 4,
   "metadata": {},
   "outputs": [],
   "source": [
    "df.dropna(axis=0, inplace=True, subset=['headline_text'])"
   ]
  },
  {
   "cell_type": "code",
   "execution_count": 5,
   "metadata": {},
   "outputs": [
    {
     "data": {
      "text/html": [
       "<div>\n",
       "<style scoped>\n",
       "    .dataframe tbody tr th:only-of-type {\n",
       "        vertical-align: middle;\n",
       "    }\n",
       "\n",
       "    .dataframe tbody tr th {\n",
       "        vertical-align: top;\n",
       "    }\n",
       "\n",
       "    .dataframe thead th {\n",
       "        text-align: right;\n",
       "    }\n",
       "</style>\n",
       "<table border=\"1\" class=\"dataframe\">\n",
       "  <thead>\n",
       "    <tr style=\"text-align: right;\">\n",
       "      <th></th>\n",
       "      <th>publish_date</th>\n",
       "      <th>headline_text</th>\n",
       "      <th>year</th>\n",
       "    </tr>\n",
       "  </thead>\n",
       "  <tbody>\n",
       "    <tr>\n",
       "      <th>0</th>\n",
       "      <td>2004-02-01</td>\n",
       "      <td>elderly man found dead</td>\n",
       "      <td>2004</td>\n",
       "    </tr>\n",
       "    <tr>\n",
       "      <th>1</th>\n",
       "      <td>2014-08-28</td>\n",
       "      <td>cairns double murder trial jury starts deliber...</td>\n",
       "      <td>2014</td>\n",
       "    </tr>\n",
       "    <tr>\n",
       "      <th>2</th>\n",
       "      <td>2014-06-27</td>\n",
       "      <td>alice spings residents rally to support house ...</td>\n",
       "      <td>2014</td>\n",
       "    </tr>\n",
       "    <tr>\n",
       "      <th>3</th>\n",
       "      <td>2008-07-24</td>\n",
       "      <td>jacqui lawrence sibling rivalry makes way for</td>\n",
       "      <td>2008</td>\n",
       "    </tr>\n",
       "    <tr>\n",
       "      <th>4</th>\n",
       "      <td>2015-09-03</td>\n",
       "      <td>water shortages force png hospital to send</td>\n",
       "      <td>2015</td>\n",
       "    </tr>\n",
       "  </tbody>\n",
       "</table>\n",
       "</div>"
      ],
      "text/plain": [
       "  publish_date                                      headline_text  year\n",
       "0   2004-02-01                             elderly man found dead  2004\n",
       "1   2014-08-28  cairns double murder trial jury starts deliber...  2014\n",
       "2   2014-06-27  alice spings residents rally to support house ...  2014\n",
       "3   2008-07-24      jacqui lawrence sibling rivalry makes way for  2008\n",
       "4   2015-09-03         water shortages force png hospital to send  2015"
      ]
     },
     "execution_count": 5,
     "metadata": {},
     "output_type": "execute_result"
    }
   ],
   "source": [
    "df = df.sample(frac=1.0)\n",
    "df.reset_index(drop=True,inplace=True)\n",
    "df.head()"
   ]
  },
  {
   "cell_type": "markdown",
   "metadata": {},
   "source": [
    "Import required NLP and text cleaning packages."
   ]
  },
  {
   "cell_type": "code",
   "execution_count": 6,
   "metadata": {},
   "outputs": [
    {
     "name": "stderr",
     "output_type": "stream",
     "text": [
      "[nltk_data] Error loading wordnet: <urlopen error [Errno 11001]\n",
      "[nltk_data]     getaddrinfo failed>\n",
      "[nltk_data] Error loading punkt: <urlopen error [Errno 11001]\n",
      "[nltk_data]     getaddrinfo failed>\n",
      "[nltk_data] Error loading averaged_perceptron_tagger: <urlopen error\n",
      "[nltk_data]     [Errno 11001] getaddrinfo failed>\n"
     ]
    }
   ],
   "source": [
    "from time import time\n",
    "import re\n",
    "import nltk\n",
    "from nltk.stem import WordNetLemmatizer, SnowballStemmer\n",
    "from nltk.corpus import stopwords\n",
    "nltk.download('wordnet')\n",
    "nltk.download('punkt')\n",
    "nltk.download('averaged_perceptron_tagger')\n",
    "from nltk.corpus import wordnet\n",
    "stemmer = SnowballStemmer(\"english\")\n",
    "lemmatizer = WordNetLemmatizer()\n",
    "stop_words = stopwords.words('english')"
   ]
  },
  {
   "cell_type": "markdown",
   "metadata": {},
   "source": [
    "We then clean the headline_text to clear it of websites, email addresses, and punctuation. The text is also made lowercase. After that, we tokenize the text by vectorizing the text corpus. \n",
    "\n",
    "A lemmatizer (as opposed to a stemmer) is used here so that we obtain real English words here. The parts of speech (POS) is found by the get_word_pos function. Alternatively, the spaCy lemmatizer can be used."
   ]
  },
  {
   "cell_type": "code",
   "execution_count": 7,
   "metadata": {},
   "outputs": [],
   "source": [
    "def clean(text):\n",
    "    text = re.sub(\"((\\S+)?(http(s)?)(\\S+))|((\\S+)?(www)(\\S+))|((\\S+)?(\\@)(\\S+)?)\", \" \", text)\n",
    "    text = re.sub(\"[^a-zA-Z ]\", \"\", text)\n",
    "    text = text.lower()\n",
    "    text = nltk.word_tokenize(text)\n",
    "    return text\n",
    "\n",
    "#https://www.machinelearningplus.com/nlp/lemmatization-examples-python/#wordnetlemmatizerwithappropriatepostag\n",
    "def get_wordnet_pos(word):\n",
    "    \"\"\"Map POS tag to first character lemmatize() accepts\"\"\"\n",
    "    tag = nltk.pos_tag([word])[0][1][0].upper()\n",
    "    tag_dict = {\"J\": wordnet.ADJ,\n",
    "                \"N\": wordnet.NOUN,\n",
    "                \"V\": wordnet.VERB,\n",
    "                \"R\": wordnet.ADV}\n",
    "\n",
    "    return tag_dict.get(tag, wordnet.NOUN)\n",
    "\n",
    "def lemma(text):\n",
    "    return [lemmatizer.lemmatize(word, get_wordnet_pos(word)) for word in text]\n",
    "\n",
    "def remove_stop_words(text):\n",
    "    return [word for word in text if word not in stop_words]\n",
    "\n",
    "def apply_all(text):\n",
    "    return lemma(remove_stop_words(clean(text)))"
   ]
  },
  {
   "cell_type": "markdown",
   "metadata": {},
   "source": [
    "For such a large dataset, the difference in time for stemming and lemmatizing words is quite large. Stemming takes about 4.8min, whereas lemmatizing takes 47min, a 10x difference. Using the first 10000 lines of the dataset takes about 0.45min. \n",
    "\n",
    "We can use SpaCy to remove stopwords, limit the part-of-speech (POS) tags, and lemmatize the text. 100000 lines of data takes takes about 4min."
   ]
  },
  {
   "cell_type": "code",
   "execution_count": 8,
   "metadata": {},
   "outputs": [
    {
     "name": "stdout",
     "output_type": "stream",
     "text": [
      "Time to clean and tokenize 1.00e+05 articles: 3.84 min.\n",
      "[['elderly', 'man', 'find', 'dead'], ['double', 'murder', 'trial', 'jury', 'start', 'deliberating'], ['sping', 'resident', 'rally', 'support', 'house', 'fire'], ['make', 'way'], ['water', 'shortage', 'force', 'send']]\n"
     ]
    }
   ],
   "source": [
    "import spacy\n",
    "nlp = spacy.load('en_core_web_sm', disable=['parser', 'ner'])\n",
    "tokenized = []\n",
    "allowed_pos_tags = ['NOUN','ADJ','VERB','ADV']\n",
    "t1 = time()\n",
    "for line in df['headline_text'].head(100000):\n",
    "    txt = nlp(line)\n",
    "    b = [t.lemma_ for t in txt if (t.lemma_ not in stop_words) and (t.pos_ in allowed_pos_tags)]\n",
    "    tokenized.append(b)\n",
    "t2 = time()\n",
    "print(\"Time to clean and tokenize %.2e articles: %.2f min.\" \n",
    "      %( len(tokenized), (t2-t1)/60))\n",
    "\n",
    "print(tokenized[:5])"
   ]
  },
  {
   "cell_type": "code",
   "execution_count": 9,
   "metadata": {},
   "outputs": [
    {
     "data": {
      "text/html": [
       "<div>\n",
       "<style scoped>\n",
       "    .dataframe tbody tr th:only-of-type {\n",
       "        vertical-align: middle;\n",
       "    }\n",
       "\n",
       "    .dataframe tbody tr th {\n",
       "        vertical-align: top;\n",
       "    }\n",
       "\n",
       "    .dataframe thead th {\n",
       "        text-align: right;\n",
       "    }\n",
       "</style>\n",
       "<table border=\"1\" class=\"dataframe\">\n",
       "  <thead>\n",
       "    <tr style=\"text-align: right;\">\n",
       "      <th></th>\n",
       "      <th>text</th>\n",
       "    </tr>\n",
       "  </thead>\n",
       "  <tbody>\n",
       "    <tr>\n",
       "      <th>0</th>\n",
       "      <td>[elderly, man, find, dead]</td>\n",
       "    </tr>\n",
       "    <tr>\n",
       "      <th>1</th>\n",
       "      <td>[double, murder, trial, jury, start, deliberat...</td>\n",
       "    </tr>\n",
       "    <tr>\n",
       "      <th>2</th>\n",
       "      <td>[sping, resident, rally, support, house, fire]</td>\n",
       "    </tr>\n",
       "    <tr>\n",
       "      <th>3</th>\n",
       "      <td>[make, way]</td>\n",
       "    </tr>\n",
       "    <tr>\n",
       "      <th>4</th>\n",
       "      <td>[water, shortage, force, send]</td>\n",
       "    </tr>\n",
       "  </tbody>\n",
       "</table>\n",
       "</div>"
      ],
      "text/plain": [
       "                                                text\n",
       "0                         [elderly, man, find, dead]\n",
       "1  [double, murder, trial, jury, start, deliberat...\n",
       "2     [sping, resident, rally, support, house, fire]\n",
       "3                                        [make, way]\n",
       "4                     [water, shortage, force, send]"
      ]
     },
     "execution_count": 9,
     "metadata": {},
     "output_type": "execute_result"
    }
   ],
   "source": [
    "dfa = pd.DataFrame()\n",
    "dfa['text'] = tokenized\n",
    "dfa.head()"
   ]
  },
  {
   "cell_type": "code",
   "execution_count": 10,
   "metadata": {},
   "outputs": [
    {
     "data": {
      "image/png": "[encoded data removed]",
      "text/plain": [
       "<PIL.Image.Image image mode=RGB size=400x200 at 0x22F12ED8B00>"
      ]
     },
     "execution_count": 10,
     "metadata": {},
     "output_type": "execute_result"
    }
   ],
   "source": [
    "# Import the wordcloud library\n",
    "from wordcloud import WordCloud\n",
    "# Join the different processed titles together.\n",
    "long_string = ' '.join(' '.join(line) for line in dfa.text)\n",
    "# Create a WordCloud object\n",
    "wordcloud = WordCloud(background_color=\"white\", max_words=5000, contour_width=3, contour_color='steelblue')\n",
    "# Generate a word cloud\n",
    "wordcloud.generate(long_string)\n",
    "# Visualize the word cloud\n",
    "wordcloud.to_image()"
   ]
  },
  {
   "cell_type": "code",
   "execution_count": 11,
   "metadata": {},
   "outputs": [],
   "source": [
    "# t1 = time()\n",
    "# a= df['headline_text'].head(100000).apply(apply_all)\n",
    "# t2 = time()\n",
    "# print(\"Time to clean and tokenize %.2e articles: %.2f min.\" %( len(a), (t2-t1)/60))\n",
    "\n",
    "# a.head(10)"
   ]
  },
  {
   "cell_type": "markdown",
   "metadata": {},
   "source": [
    "Get word frequency"
   ]
  },
  {
   "cell_type": "code",
   "execution_count": 12,
   "metadata": {},
   "outputs": [
    {
     "data": {
      "text/plain": [
       "18168"
      ]
     },
     "execution_count": 12,
     "metadata": {},
     "output_type": "execute_result"
    }
   ],
   "source": [
    "from nltk import FreqDist\n",
    "\n",
    "# first get a list of all words\n",
    "all_words = [word for item in list(tokenized) for word in item]\n",
    "\n",
    "# use nltk fdist to get a frequency distribution of all words\n",
    "fdist = FreqDist(all_words)\n",
    "len(fdist) # number of unique words"
   ]
  },
  {
   "cell_type": "markdown",
   "metadata": {},
   "source": [
    "We use Latent Dirichlet Allocation (LDA), an unsupervised generative model that assigns topic distributions to documents. \n",
    "\n",
    "`LDA does not work well with very short documents, like twitter feeds, as explained here [1] [2], which is why we dropped articles under 40 tokens previously. Very briefly, this is because the model infers parameters from observations and if there are not enough observations (words) in a document, the model performs poorly.'\n",
    "\n",
    "`Unlike the word2vec algorithm, which performs extremely well with full structured sentences, LDA is a bag of words model, meaning word order in a document doesnt count. This also means that stopwords and rare words should be excluded, so that the model doesnt overcompensate for very frequent words and very rare words, both of which do not contribute to general topics.'"
   ]
  },
  {
   "cell_type": "code",
   "execution_count": 13,
   "metadata": {},
   "outputs": [],
   "source": [
    "import gensim\n",
    "\n",
    "dictionary = gensim.corpora.Dictionary(dfa['text'])\n",
    "dictionary.filter_extremes(no_below=15, no_above=0.1, keep_n= 100000)\n",
    "bow_corpus = [dictionary.doc2bow(doc) for doc in dfa['text']]"
   ]
  },
  {
   "cell_type": "code",
   "execution_count": 14,
   "metadata": {},
   "outputs": [
    {
     "name": "stdout",
     "output_type": "stream",
     "text": [
      "LDA model trained in 2.1 min.\n"
     ]
    }
   ],
   "source": [
    "t1 = time()\n",
    "lda_model =  gensim.models.LdaMulticore(bow_corpus, \n",
    "                                       num_topics=10, \n",
    "                                       id2word=dictionary,                                    \n",
    "                                       passes=10,\n",
    "                                       workers=3)\n",
    "t2 = time()\n",
    "print('LDA model trained in %.1f min.' % ((t2-t1)/60))"
   ]
  },
  {
   "cell_type": "markdown",
   "metadata": {},
   "source": [
    "We save this model."
   ]
  },
  {
   "cell_type": "code",
   "execution_count": 15,
   "metadata": {},
   "outputs": [],
   "source": [
    "from gensim.test.utils import datapath\n",
    "lda_model.save('one_mil_model2')"
   ]
  },
  {
   "cell_type": "code",
   "execution_count": 16,
   "metadata": {},
   "outputs": [
    {
     "data": {
      "text/html": [
       "\n",
       "<link rel=\"stylesheet\" type=\"text/css\" href=\"https://cdn.rawgit.com/bmabey/pyLDAvis/files/ldavis.v1.0.0.css\">\n",
       "\n",
       "\n",
       "<div id=\"ldavis_el1408424012249194648079079449\"></div>\n",
       "<script type=\"text/javascript\">\n",
       "\n",
       "var ldavis_el1408424012249194648079079449_data = {\"mdsDat\": {\"x\": [-0.3027861944141845, 0.13857118749987626, -0.3343296843158414, 0.1331712806331123, 0.10695496800227153, 0.05341580972987442, 0.14560988078655432, 0.02144703760775847, 0.0949351852959003, -0.05698947082532101], \"y\": [0.07711266512515358, -0.06066607186540094, 0.018472152407493312, -0.09029166395010596, 0.045294102788908504, 0.24031647397804318, 0.02792771514918259, -0.19692361602282418, 0.1904949425424317, -0.2517367001528815], \"topics\": [1, 2, 3, 4, 5, 6, 7, 8, 9, 10], \"cluster\": [1, 1, 1, 1, 1, 1, 1, 1, 1, 1], \"Freq\": [10.777910232543945, 10.520956039428711, 10.42100715637207, 10.31535530090332, 10.050244331359863, 9.9295015335083, 9.675430297851562, 9.613271713256836, 9.456323623657227, 9.240005493164062]}, \"tinfo\": {\"Term\": [\"say\", \"police\", \"call\", \"man\", \"win\", \"new\", \"charge\", \"court\", \"fire\", \"face\", \"find\", \"woman\", \"change\", \"hit\", \"kill\", \"take\", \"report\", \"car\", \"crash\", \"death\", \"talk\", \"rise\", \"home\", \"jail\", \"accuse\", \"warn\", \"seek\", \"murder\", \"die\", \"open\", \"find\", \"report\", \"die\", \"make\", \"drug\", \"arrest\", \"woman\", \"car\", \"dead\", \"guilty\", \"assault\", \"force\", \"fine\", \"body\", \"plead\", \"rescue\", \"dog\", \"stab\", \"boat\", \"baby\", \"youth\", \"raid\", \"problem\", \"admit\", \"celebrate\", \"highlight\", \"catch\", \"energy\", \"praise\", \"seize\", \"leave\", \"charge\", \"man\", \"defend\", \"join\", \"police\", \"injure\", \"crash\", \"death\", \"delay\", \"say\", \"change\", \"concern\", \"could\", \"power\", \"still\", \"need\", \"business\", \"launch\", \"drought\", \"future\", \"safety\", \"issue\", \"climate\", \"plane\", \"aid\", \"air\", \"raise\", \"warning\", \"well\", \"system\", \"war\", \"food\", \"bad\", \"impact\", \"closure\", \"development\", \"bushfire\", \"nuclear\", \"land\", \"farmer\", \"fear\", \"station\", \"mine\", \"end\", \"fire\", \"plan\", \"court\", \"face\", \"jail\", \"accuse\", \"seek\", \"miss\", \"trial\", \"sex\", \"search\", \"investigate\", \"gold\", \"shoot\", \"meet\", \"challenge\", \"stand\", \"coast\", \"officer\", \"bail\", \"front\", \"lawyer\", \"shooting\", \"indonesian\", \"avoid\", \"witness\", \"economic\", \"film\", \"evidence\", \"boss\", \"terror\", \"couple\", \"attempt\", \"police\", \"murder\", \"appeal\", \"case\", \"attack\", \"question\", \"child\", \"man\", \"former\", \"charge\", \"free\", \"suspect\", \"give\", \"call\", \"take\", \"go\", \"election\", \"indigenous\", \"top\", \"housing\", \"campaign\", \"demand\", \"security\", \"drop\", \"clear\", \"hold\", \"long\", \"medium\", \"town\", \"focus\", \"staff\", \"party\", \"control\", \"meeting\", \"honour\", \"tip\", \"refuse\", \"extend\", \"criticise\", \"political\", \"become\", \"dispute\", \"poll\", \"put\", \"day\", \"public\", \"community\", \"inquiry\", \"regional\", \"ahead\", \"labor\", \"vote\", \"plan\", \"link\", \"warn\", \"get\", \"boost\", \"may\", \"work\", \"tell\", \"time\", \"resident\", \"industry\", \"look\", \"begin\", \"life\", \"speak\", \"start\", \"stop\", \"tourism\", \"green\", \"right\", \"stay\", \"come\", \"ready\", \"tough\", \"scheme\", \"interview\", \"firefighter\", \"step\", \"woe\", \"tackle\", \"full\", \"expansion\", \"damage\", \"coal\", \"fire\", \"group\", \"urge\", \"project\", \"new\", \"rise\", \"price\", \"rate\", \"record\", \"bid\", \"violence\", \"announce\", \"battle\", \"blame\", \"number\", \"accident\", \"toll\", \"tax\", \"dollar\", \"low\", \"strong\", \"profit\", \"oil\", \"quit\", \"fuel\", \"interest\", \"growth\", \"lift\", \"worry\", \"victorian\", \"candidate\", \"figure\", \"bank\", \"carbon\", \"level\", \"high\", \"fall\", \"increase\", \"death\", \"support\", \"share\", \"rural\", \"mining\", \"plan\", \"road\", \"break\", \"probe\", \"market\", \"set\", \"flood\", \"rain\", \"action\", \"deal\", \"budget\", \"sign\", \"promise\", \"decision\", \"team\", \"teacher\", \"black\", \"confirm\", \"trade\", \"victory\", \"legal\", \"reach\", \"anti\", \"tiger\", \"flu\", \"coalition\", \"site\", \"money\", \"clean\", \"coach\", \"vow\", \"hurt\", \"deliver\", \"building\", \"bird\", \"investigation\", \"new\", \"school\", \"claim\", \"pay\", \"fight\", \"protest\", \"strike\", \"government\", \"law\", \"funding\", \"federal\", \"council\", \"win\", \"continue\", \"health\", \"show\", \"student\", \"sale\", \"threat\", \"remain\", \"turn\", \"country\", \"steal\", \"cattle\", \"hand\", \"live\", \"care\", \"late\", \"deny\", \"player\", \"visit\", \"export\", \"patient\", \"old\", \"doubt\", \"highway\", \"gun\", \"list\", \"phone\", \"ease\", \"stage\", \"third\", \"owner\", \"kill\", \"review\", \"year\", \"second\", \"offer\", \"service\", \"push\", \"bomb\", \"hit\", \"open\", \"test\", \"want\", \"close\", \"consider\", \"final\", \"world\", \"run\", \"play\", \"storm\", \"welcome\", \"see\", \"first\", \"game\", \"aussie\", \"draw\", \"red\", \"grow\", \"spot\", \"northern\", \"city\", \"role\", \"eye\", \"buy\", \"grain\", \"fee\", \"investment\", \"harvest\", \"resign\", \"water\", \"lead\", \"job\", \"cut\", \"keep\", \"market\", \"reject\", \"back\", \"good\", \"loss\", \"australian\", \"claim\", \"talk\", \"home\", \"return\", \"lose\", \"driver\", \"name\", \"leader\", \"head\", \"release\", \"abuse\", \"train\", \"sentence\", \"tour\", \"bus\", \"truck\", \"soldier\", \"award\", \"parent\", \"horse\", \"grant\", \"contract\", \"dump\", \"escape\", \"seeker\", \"protester\", \"education\", \"military\", \"asylum\", \"refugee\", \"arrive\", \"comment\", \"move\", \"crash\", \"victim\", \"opposition\", \"debate\", \"chinese\", \"kill\", \"week\", \"year\"], \"Freq\": [2350.0, 2963.0, 1633.0, 2367.0, 1445.0, 1832.0, 1755.0, 1189.0, 1506.0, 1175.0, 1192.0, 1070.0, 1013.0, 965.0, 1219.0, 957.0, 940.0, 918.0, 1155.0, 1177.0, 784.0, 805.0, 776.0, 817.0, 811.0, 796.0, 802.0, 1003.0, 807.0, 761.0, 1191.76220703125, 939.9159545898438, 806.2410278320312, 766.3884887695312, 689.5176391601562, 628.2396240234375, 1068.6376953125, 916.6908569335938, 479.8596496582031, 473.5051574707031, 444.94244384765625, 419.2685852050781, 371.7828063964844, 365.9487609863281, 327.7510681152344, 325.308837890625, 255.24717712402344, 236.75204467773438, 234.54554748535156, 259.941650390625, 218.54571533203125, 210.0662841796875, 194.46011352539062, 186.59715270996094, 183.85137939453125, 175.07630920410156, 161.58140563964844, 158.8914337158203, 155.76353454589844, 153.70816040039062, 400.5180969238281, 1100.571533203125, 1395.11865234375, 325.1915588378906, 259.27001953125, 761.1402587890625, 251.1243133544922, 380.20159912109375, 357.37744140625, 223.75360107421875, 2349.7900390625, 1012.6201782226562, 639.6930541992188, 571.4679565429688, 521.5337524414062, 469.263427734375, 450.7798156738281, 434.18902587890625, 417.1494140625, 415.24420166015625, 370.390869140625, 358.614990234375, 329.33087158203125, 295.518310546875, 291.6334533691406, 288.53839111328125, 283.8574523925781, 272.669677734375, 247.3463897705078, 244.8711700439453, 244.59735107421875, 240.9723358154297, 258.2748718261719, 223.50457763671875, 222.59881591796875, 212.9111328125, 201.415283203125, 198.7469940185547, 192.20138549804688, 329.9250793457031, 484.950439453125, 455.95947265625, 283.0442199707031, 314.014892578125, 345.7708435058594, 319.82421875, 299.3736267089844, 1188.7435302734375, 1174.555908203125, 816.6067504882812, 810.4443359375, 801.9700317382812, 792.252685546875, 649.0028686523438, 523.6947631835938, 503.3609924316406, 403.8153381347656, 411.0184631347656, 354.9556884765625, 304.3206787109375, 303.39813232421875, 296.6064758300781, 258.30230712890625, 277.28985595703125, 264.26251220703125, 198.16163635253906, 196.02403259277344, 166.39967346191406, 166.34225463867188, 161.64218139648438, 156.45379638671875, 153.99452209472656, 150.1367950439453, 147.79811096191406, 130.2178955078125, 124.60924530029297, 118.87517547607422, 187.00733947753906, 2201.30224609375, 825.2559204101562, 369.96075439453125, 441.368408203125, 641.1375122070312, 334.4314270019531, 543.5103149414062, 971.43994140625, 326.03656005859375, 653.8377075195312, 241.25672912597656, 228.63710021972656, 258.6612243652344, 1632.817626953125, 956.36279296875, 677.427978515625, 666.5278930664062, 606.6506958007812, 497.03594970703125, 335.0921630859375, 318.9941711425781, 305.2688903808594, 298.58404541015625, 287.5390319824219, 275.5560302734375, 540.2814331054688, 258.20989990234375, 255.50733947753906, 246.29197692871094, 240.51197814941406, 227.8806610107422, 224.36605834960938, 209.140380859375, 208.99957275390625, 196.41488647460938, 191.05665588378906, 190.2239532470703, 177.91249084472656, 177.294677734375, 175.02407836914062, 172.34645080566406, 167.4243927001953, 160.0088653564453, 426.54241943359375, 534.807373046875, 378.3264465332031, 299.3420715332031, 250.70863342285156, 252.1219024658203, 255.03176879882812, 260.07135009765625, 230.63255310058594, 254.21287536621094, 211.98712158203125, 795.876220703125, 730.2284545898438, 660.0525512695312, 648.89794921875, 611.9723510742188, 547.7366943359375, 511.570068359375, 472.2415771484375, 469.54510498046875, 449.1251220703125, 408.1773986816406, 404.81317138671875, 393.1191711425781, 364.0838928222656, 299.3222351074219, 270.2164306640625, 263.6638488769531, 259.1439208984375, 256.4149169921875, 245.7901611328125, 238.41928100585938, 229.7570343017578, 228.18716430664062, 220.13845825195312, 192.5751953125, 181.94821166992188, 177.8673553466797, 167.89749145507812, 150.07025146484375, 148.71043395996094, 288.5193176269531, 161.61863708496094, 1186.0186767578125, 328.11627197265625, 459.2076416015625, 219.61985778808594, 376.4424133300781, 804.5152587890625, 647.3348999023438, 574.8248291015625, 516.9609985351562, 373.7696838378906, 331.52593994140625, 327.3028869628906, 283.7589111328125, 264.46600341796875, 253.54623413085938, 251.95770263671875, 244.38836669921875, 405.2288818359375, 243.48480224609375, 240.28045654296875, 236.15872192382812, 227.5079345703125, 237.6749725341797, 222.99913024902344, 207.79737854003906, 205.76986694335938, 196.34381103515625, 183.88626098632812, 182.803955078125, 181.81288146972656, 179.34901428222656, 171.1915283203125, 168.80368041992188, 165.5044403076172, 166.01531982421875, 600.8550415039062, 442.1796569824219, 258.7948913574219, 819.4901733398438, 424.1755676269531, 385.6341552734375, 292.34771728515625, 246.1803436279297, 567.6318359375, 306.660888671875, 260.24017333984375, 273.2594909667969, 315.3733825683594, 751.7813720703125, 583.4390869140625, 436.22509765625, 414.57952880859375, 412.28753662109375, 401.5615234375, 345.359375, 335.58636474609375, 330.9337463378906, 284.1255187988281, 283.6135559082031, 273.84698486328125, 265.0455627441406, 253.47488403320312, 245.63307189941406, 239.2912139892578, 194.7776641845703, 213.93260192871094, 190.30252075195312, 189.97286987304688, 182.59710693359375, 248.56344604492188, 166.880615234375, 166.63938903808594, 166.25985717773438, 163.58534240722656, 163.38555908203125, 151.029296875, 141.65682983398438, 141.33523559570312, 262.5516052246094, 1455.06201171875, 575.052978515625, 677.1055297851562, 425.2937927246094, 507.62823486328125, 358.1986083984375, 365.2598876953125, 462.8355712890625, 350.53765869140625, 318.561279296875, 224.20115661621094, 233.50494384765625, 1445.1011962890625, 693.8786010742188, 692.1279907226562, 554.2439575195312, 460.1515808105469, 371.16717529296875, 355.0419921875, 327.48333740234375, 297.8244934082031, 289.34222412109375, 286.6095275878906, 266.42138671875, 261.9471435546875, 257.907958984375, 265.2752380371094, 245.5897674560547, 439.03045654296875, 236.8240966796875, 234.3944549560547, 222.42938232421875, 214.6848602294922, 212.4401092529297, 207.2806396484375, 205.367431640625, 201.31307983398438, 190.0255584716797, 183.97296142578125, 179.38262939453125, 173.89540100097656, 173.66348266601562, 182.72105407714844, 915.258056640625, 304.4242858886719, 589.3944702148438, 282.8264465332031, 286.30523681640625, 278.76318359375, 255.05482482910156, 219.84730529785156, 964.8515625, 760.8318481445312, 638.1000366210938, 619.553955078125, 559.2703247070312, 511.7688903808594, 506.6426086425781, 451.1976623535156, 432.9278564453125, 416.26776123046875, 405.19195556640625, 397.33294677734375, 315.23095703125, 606.6433715820312, 285.2705993652344, 225.8040771484375, 204.44371032714844, 200.8144989013672, 167.63734436035156, 162.5552520751953, 156.58599853515625, 154.4892578125, 151.45095825195312, 140.7149200439453, 136.39071655273438, 133.09315490722656, 132.01194763183594, 129.6447296142578, 127.64883422851562, 125.51786804199219, 769.3289794921875, 484.174560546875, 534.6639404296875, 535.1351928710938, 315.3513488769531, 502.9940185546875, 313.0212097167969, 492.32342529296875, 241.9276123046875, 187.5862274169922, 299.16656494140625, 201.1414031982422, 784.0732421875, 775.8954467773438, 599.623046875, 594.2819213867188, 582.3321533203125, 448.4777526855469, 436.28466796875, 431.1322021484375, 446.6261291503906, 390.4900817871094, 338.24322509765625, 331.07037353515625, 310.23345947265625, 280.8767395019531, 247.63043212890625, 243.93685913085938, 241.47857666015625, 205.6477508544922, 201.4097900390625, 199.37405395507812, 187.0950927734375, 164.6949920654297, 164.28805541992188, 164.1210479736328, 160.81402587890625, 160.20970153808594, 153.2071533203125, 150.09588623046875, 149.60081481933594, 149.0642852783203, 170.378173828125, 480.8403015136719, 774.706298828125, 360.8494873046875, 286.45635986328125, 223.41612243652344, 187.35853576660156, 303.1813659667969, 172.7633056640625, 181.55809020996094], \"Total\": [2350.0, 2963.0, 1633.0, 2367.0, 1445.0, 1832.0, 1755.0, 1189.0, 1506.0, 1175.0, 1192.0, 1070.0, 1013.0, 965.0, 1219.0, 957.0, 940.0, 918.0, 1155.0, 1177.0, 784.0, 805.0, 776.0, 817.0, 811.0, 796.0, 802.0, 1003.0, 807.0, 761.0, 1192.6551513671875, 940.8125, 807.1338500976562, 767.2813110351562, 690.4104614257812, 629.1580810546875, 1070.5721435546875, 918.3914794921875, 480.7527770996094, 474.3980407714844, 445.83538818359375, 420.16156005859375, 372.6757507324219, 366.8417053222656, 328.6439514160156, 326.2017822265625, 256.1401672363281, 237.64492797851562, 235.4384765625, 260.98248291015625, 219.4386444091797, 210.95919799804688, 195.35302734375, 187.49008178710938, 184.7448272705078, 175.96922302246094, 162.4743194580078, 159.78439331054688, 156.65646362304688, 154.60118103027344, 495.1518249511719, 1755.2034912109375, 2367.3525390625, 438.1427307128906, 329.8190002441406, 2963.279296875, 353.4161071777344, 1155.7015380859375, 1177.66064453125, 354.30108642578125, 2350.683349609375, 1013.5134887695312, 640.5863647460938, 572.3613891601562, 522.4271240234375, 470.15850830078125, 451.6732177734375, 435.0823974609375, 418.0428466796875, 416.1375732421875, 371.28424072265625, 359.5083923339844, 330.2242736816406, 296.41168212890625, 292.52685546875, 289.4317626953125, 284.7633972167969, 273.56304931640625, 248.23976135253906, 245.7651824951172, 245.49264526367188, 241.86573791503906, 259.2472839355469, 224.39796447753906, 223.5319061279297, 213.80450439453125, 202.30865478515625, 199.640380859375, 193.0947723388672, 331.4654846191406, 596.4529418945312, 673.1032104492188, 355.2799072265625, 439.0038757324219, 586.7874755859375, 1506.6375732421875, 1706.2286376953125, 1189.6368408203125, 1175.449462890625, 817.5003051757812, 811.3390502929688, 802.8633422851562, 793.14599609375, 649.8961791992188, 524.6161499023438, 504.25433349609375, 404.70867919921875, 411.95147705078125, 355.8490295410156, 305.2161560058594, 304.2914733886719, 297.49981689453125, 259.1956481933594, 278.2850341796875, 265.28350830078125, 199.05496215820312, 196.9173583984375, 167.29298400878906, 167.2356719970703, 162.53550720214844, 157.3471221923828, 154.88787841796875, 151.03012084960938, 148.69143676757812, 131.11122131347656, 125.5025863647461, 119.76853942871094, 190.65643310546875, 2963.279296875, 1003.5062866210938, 451.046875, 572.460205078125, 943.875244140625, 426.5291442871094, 841.1718139648438, 2367.3525390625, 485.4766540527344, 1755.2034912109375, 326.37799072265625, 294.4441223144531, 525.515380859375, 1633.713623046875, 957.2567749023438, 678.322021484375, 667.4223022460938, 607.6113891601562, 497.93023681640625, 335.9861755371094, 319.8883056640625, 306.1629333496094, 299.4780578613281, 288.4330749511719, 276.50042724609375, 542.1467895507812, 259.10394287109375, 256.4013366699219, 247.18597412109375, 241.40597534179688, 228.774658203125, 225.26007080078125, 210.0343780517578, 209.894287109375, 197.30889892578125, 191.95066833496094, 191.1179962158203, 178.80648803710938, 178.1886749267578, 175.91807556152344, 173.240478515625, 168.3184051513672, 160.9030303955078, 441.611572265625, 710.5604248046875, 500.2294616699219, 394.67657470703125, 303.4293518066406, 319.8580017089844, 385.77398681640625, 489.6448669433594, 372.5047912597656, 1706.2286376953125, 268.4809265136719, 796.7694091796875, 731.1216430664062, 660.94580078125, 649.79150390625, 612.8655395507812, 548.6300659179688, 512.46337890625, 473.1347961425781, 470.4418029785156, 450.0183410644531, 409.07080078125, 405.7064208984375, 394.01239013671875, 364.97711181640625, 300.2154846191406, 271.1282653808594, 264.5687255859375, 260.03717041015625, 257.3081359863281, 246.68341064453125, 239.3125, 230.6502685546875, 229.0804443359375, 221.0316619873047, 193.4906463623047, 182.84144592285156, 178.76063537597656, 168.7907257080078, 150.96347045898438, 149.60365295410156, 290.92657470703125, 162.64602661132812, 1506.6375732421875, 545.6744995117188, 1093.4251708984375, 287.7220764160156, 1832.3197021484375, 805.4073486328125, 648.2269897460938, 575.7169189453125, 517.8531494140625, 374.6617736816406, 332.41802978515625, 328.1949768066406, 284.6510009765625, 265.35809326171875, 254.43844604492188, 252.84982299804688, 245.2804718017578, 406.7132873535156, 244.37692260742188, 241.17257690429688, 237.0508270263672, 228.4000244140625, 238.61822509765625, 223.8912353515625, 208.6894989013672, 206.66673278808594, 197.23965454101562, 184.7783660888672, 183.69607543945312, 182.70506286621094, 180.24111938476562, 172.08367919921875, 169.69578552246094, 166.3966064453125, 166.93438720703125, 684.048095703125, 510.9674987792969, 285.4247741699219, 1177.66064453125, 554.7819213867188, 508.60791015625, 366.292724609375, 320.0246276855469, 1706.2286376953125, 608.4556884765625, 393.4516906738281, 460.6676940917969, 819.1603393554688, 752.6741943359375, 584.3318481445312, 437.117919921875, 415.47235107421875, 413.18035888671875, 402.454345703125, 346.252197265625, 336.47918701171875, 331.8265686035156, 285.0195007324219, 284.5063781738281, 274.7398376464844, 265.9383850097656, 254.36770629882812, 246.52587890625, 240.1840362548828, 195.6704864501953, 214.92282104492188, 191.19532775878906, 190.8656768798828, 183.4899444580078, 249.8560791015625, 167.77345275878906, 167.53219604492188, 167.1526641845703, 164.47816467285156, 164.27841186523438, 151.922119140625, 142.54965209960938, 142.22805786132812, 266.04461669921875, 1832.3197021484375, 714.3692626953125, 879.0406494140625, 527.6341552734375, 661.7054443359375, 466.0604553222656, 481.305419921875, 844.8844604492188, 588.8125610351562, 524.6694946289062, 291.1407165527344, 493.7568054199219, 1445.9931640625, 694.7706909179688, 693.02001953125, 555.1380615234375, 461.0436706542969, 372.0594482421875, 355.93408203125, 328.3759460449219, 298.716552734375, 290.2342834472656, 287.5016174316406, 267.3135070800781, 262.8392333984375, 258.800048828125, 266.2340393066406, 246.48187255859375, 440.6811218261719, 237.7162628173828, 235.28651428222656, 223.32144165039062, 215.57691955566406, 213.33216857910156, 208.17449951171875, 206.259521484375, 202.20516967773438, 190.91763305664062, 184.8650360107422, 180.2747039794922, 174.78746032714844, 174.5555419921875, 183.7405242919922, 1219.2305908203125, 369.0797119140625, 993.8456420898438, 364.5875244140625, 479.0782165527344, 689.650390625, 582.021240234375, 294.6754150390625, 965.7444458007812, 761.7246704101562, 638.9928588867188, 620.4468383789062, 560.1631469726562, 512.6620483398438, 507.5354309082031, 452.0904846191406, 433.8206787109375, 417.16058349609375, 406.08477783203125, 398.2257995605469, 316.12420654296875, 608.420166015625, 286.1634216308594, 226.6968994140625, 205.33653259277344, 201.70733642578125, 168.53448486328125, 163.45404052734375, 157.4788360595703, 155.38209533691406, 152.3437957763672, 141.6077423095703, 137.28353881835938, 133.98599243164062, 132.9064178466797, 130.53756713867188, 128.54165649414062, 126.41069030761719, 945.0105590820312, 607.398681640625, 699.27099609375, 735.7784423828125, 423.632568359375, 819.1603393554688, 429.6173400878906, 1212.0155029296875, 394.1739807128906, 251.85726928710938, 896.4214477539062, 879.0406494140625, 784.9644165039062, 776.7868041992188, 600.51416015625, 595.173095703125, 583.2233276367188, 449.388916015625, 437.1774597167969, 432.0233459472656, 447.5992736816406, 391.3812255859375, 339.1349182128906, 331.9615173339844, 311.1246032714844, 281.7679138183594, 248.52157592773438, 244.8280029296875, 242.36972045898438, 206.53890991210938, 202.30096435546875, 200.2652130126953, 187.9865264892578, 165.5861358642578, 165.17919921875, 165.01217651367188, 161.70516967773438, 161.10086059570312, 154.098388671875, 150.9870147705078, 150.49195861816406, 149.9554901123047, 171.53759765625, 603.864990234375, 1155.7015380859375, 520.3876342773438, 391.63873291015625, 279.89825439453125, 250.7064666748047, 1219.2305908203125, 280.163330078125, 993.8456420898438], \"Category\": [\"Default\", \"Default\", \"Default\", \"Default\", \"Default\", \"Default\", \"Default\", \"Default\", \"Default\", \"Default\", \"Default\", \"Default\", \"Default\", \"Default\", \"Default\", \"Default\", \"Default\", \"Default\", \"Default\", \"Default\", \"Default\", \"Default\", \"Default\", \"Default\", \"Default\", \"Default\", \"Default\", \"Default\", \"Default\", \"Default\", \"Topic1\", \"Topic1\", \"Topic1\", \"Topic1\", \"Topic1\", \"Topic1\", \"Topic1\", \"Topic1\", \"Topic1\", \"Topic1\", \"Topic1\", \"Topic1\", \"Topic1\", \"Topic1\", \"Topic1\", \"Topic1\", \"Topic1\", \"Topic1\", \"Topic1\", \"Topic1\", \"Topic1\", \"Topic1\", \"Topic1\", \"Topic1\", \"Topic1\", \"Topic1\", \"Topic1\", \"Topic1\", \"Topic1\", \"Topic1\", \"Topic1\", \"Topic1\", \"Topic1\", \"Topic1\", \"Topic1\", \"Topic1\", \"Topic1\", \"Topic1\", \"Topic1\", \"Topic1\", \"Topic2\", \"Topic2\", \"Topic2\", \"Topic2\", \"Topic2\", \"Topic2\", \"Topic2\", \"Topic2\", \"Topic2\", \"Topic2\", \"Topic2\", \"Topic2\", \"Topic2\", \"Topic2\", \"Topic2\", \"Topic2\", \"Topic2\", \"Topic2\", \"Topic2\", \"Topic2\", \"Topic2\", \"Topic2\", \"Topic2\", \"Topic2\", \"Topic2\", \"Topic2\", \"Topic2\", \"Topic2\", \"Topic2\", \"Topic2\", \"Topic2\", \"Topic2\", \"Topic2\", \"Topic2\", \"Topic2\", \"Topic2\", \"Topic2\", \"Topic3\", \"Topic3\", \"Topic3\", \"Topic3\", \"Topic3\", \"Topic3\", \"Topic3\", \"Topic3\", \"Topic3\", \"Topic3\", \"Topic3\", \"Topic3\", \"Topic3\", \"Topic3\", \"Topic3\", \"Topic3\", \"Topic3\", \"Topic3\", \"Topic3\", \"Topic3\", \"Topic3\", \"Topic3\", \"Topic3\", \"Topic3\", \"Topic3\", \"Topic3\", \"Topic3\", \"Topic3\", \"Topic3\", \"Topic3\", \"Topic3\", \"Topic3\", \"Topic3\", \"Topic3\", \"Topic3\", \"Topic3\", \"Topic3\", \"Topic3\", \"Topic3\", \"Topic3\", \"Topic3\", \"Topic3\", \"Topic3\", \"Topic3\", \"Topic4\", \"Topic4\", \"Topic4\", \"Topic4\", \"Topic4\", \"Topic4\", \"Topic4\", \"Topic4\", \"Topic4\", \"Topic4\", \"Topic4\", \"Topic4\", \"Topic4\", \"Topic4\", \"Topic4\", \"Topic4\", \"Topic4\", \"Topic4\", \"Topic4\", \"Topic4\", \"Topic4\", \"Topic4\", \"Topic4\", \"Topic4\", \"Topic4\", \"Topic4\", \"Topic4\", \"Topic4\", \"Topic4\", \"Topic4\", \"Topic4\", \"Topic4\", \"Topic4\", \"Topic4\", \"Topic4\", \"Topic4\", \"Topic4\", \"Topic4\", \"Topic4\", \"Topic4\", \"Topic4\", \"Topic5\", \"Topic5\", \"Topic5\", \"Topic5\", \"Topic5\", \"Topic5\", \"Topic5\", \"Topic5\", \"Topic5\", \"Topic5\", \"Topic5\", \"Topic5\", \"Topic5\", \"Topic5\", \"Topic5\", \"Topic5\", \"Topic5\", \"Topic5\", \"Topic5\", \"Topic5\", \"Topic5\", \"Topic5\", \"Topic5\", \"Topic5\", \"Topic5\", \"Topic5\", \"Topic5\", \"Topic5\", \"Topic5\", \"Topic5\", \"Topic5\", \"Topic5\", \"Topic5\", \"Topic5\", \"Topic5\", \"Topic5\", \"Topic5\", \"Topic6\", \"Topic6\", \"Topic6\", \"Topic6\", \"Topic6\", \"Topic6\", \"Topic6\", \"Topic6\", \"Topic6\", \"Topic6\", \"Topic6\", \"Topic6\", \"Topic6\", \"Topic6\", \"Topic6\", \"Topic6\", \"Topic6\", \"Topic6\", \"Topic6\", \"Topic6\", \"Topic6\", \"Topic6\", \"Topic6\", \"Topic6\", \"Topic6\", \"Topic6\", \"Topic6\", \"Topic6\", \"Topic6\", \"Topic6\", \"Topic6\", \"Topic6\", \"Topic6\", \"Topic6\", \"Topic6\", \"Topic6\", \"Topic6\", \"Topic6\", \"Topic6\", \"Topic6\", \"Topic6\", \"Topic6\", \"Topic6\", \"Topic7\", \"Topic7\", \"Topic7\", \"Topic7\", \"Topic7\", \"Topic7\", \"Topic7\", \"Topic7\", \"Topic7\", \"Topic7\", \"Topic7\", \"Topic7\", \"Topic7\", \"Topic7\", \"Topic7\", \"Topic7\", \"Topic7\", \"Topic7\", \"Topic7\", \"Topic7\", \"Topic7\", \"Topic7\", \"Topic7\", \"Topic7\", \"Topic7\", \"Topic7\", \"Topic7\", \"Topic7\", \"Topic7\", \"Topic7\", \"Topic7\", \"Topic7\", \"Topic7\", \"Topic7\", \"Topic7\", \"Topic7\", \"Topic7\", \"Topic7\", \"Topic7\", \"Topic7\", \"Topic7\", \"Topic7\", \"Topic7\", \"Topic8\", \"Topic8\", \"Topic8\", \"Topic8\", \"Topic8\", \"Topic8\", \"Topic8\", \"Topic8\", \"Topic8\", \"Topic8\", \"Topic8\", \"Topic8\", \"Topic8\", \"Topic8\", \"Topic8\", \"Topic8\", \"Topic8\", \"Topic8\", \"Topic8\", \"Topic8\", \"Topic8\", \"Topic8\", \"Topic8\", \"Topic8\", \"Topic8\", \"Topic8\", \"Topic8\", \"Topic8\", \"Topic8\", \"Topic8\", \"Topic8\", \"Topic8\", \"Topic8\", \"Topic8\", \"Topic8\", \"Topic8\", \"Topic8\", \"Topic8\", \"Topic8\", \"Topic9\", \"Topic9\", \"Topic9\", \"Topic9\", \"Topic9\", \"Topic9\", \"Topic9\", \"Topic9\", \"Topic9\", \"Topic9\", \"Topic9\", \"Topic9\", \"Topic9\", \"Topic9\", \"Topic9\", \"Topic9\", \"Topic9\", \"Topic9\", \"Topic9\", \"Topic9\", \"Topic9\", \"Topic9\", \"Topic9\", \"Topic9\", \"Topic9\", \"Topic9\", \"Topic9\", \"Topic9\", \"Topic9\", \"Topic9\", \"Topic9\", \"Topic9\", \"Topic9\", \"Topic9\", \"Topic9\", \"Topic9\", \"Topic9\", \"Topic9\", \"Topic9\", \"Topic9\", \"Topic9\", \"Topic9\", \"Topic10\", \"Topic10\", \"Topic10\", \"Topic10\", \"Topic10\", \"Topic10\", \"Topic10\", \"Topic10\", \"Topic10\", \"Topic10\", \"Topic10\", \"Topic10\", \"Topic10\", \"Topic10\", \"Topic10\", \"Topic10\", \"Topic10\", \"Topic10\", \"Topic10\", \"Topic10\", \"Topic10\", \"Topic10\", \"Topic10\", \"Topic10\", \"Topic10\", \"Topic10\", \"Topic10\", \"Topic10\", \"Topic10\", \"Topic10\", \"Topic10\", \"Topic10\", \"Topic10\", \"Topic10\", \"Topic10\", \"Topic10\", \"Topic10\", \"Topic10\", \"Topic10\", \"Topic10\"], \"logprob\": [30.0, 29.0, 28.0, 27.0, 26.0, 25.0, 24.0, 23.0, 22.0, 21.0, 20.0, 19.0, 18.0, 17.0, 16.0, 15.0, 14.0, 13.0, 12.0, 11.0, 10.0, 9.0, 8.0, 7.0, 6.0, 5.0, 4.0, 3.0, 2.0, 1.0, -3.382699966430664, -3.6201000213623047, -3.7734999656677246, -3.824199914932251, -3.9298999309539795, -4.0229997634887695, -3.49180006980896, -3.64520001411438, -4.292399883270264, -4.305799961090088, -4.368000030517578, -4.4274001121521, -4.547599792480469, -4.563399791717529, -4.673699855804443, -4.68120002746582, -4.923699855804443, -4.998899936676025, -5.008299827575684, -4.9054999351501465, -5.07889986038208, -5.118500232696533, -5.195700168609619, -5.236999988555908, -5.251800060272217, -5.3007001876831055, -5.380899906158447, -5.39769983291626, -5.417600154876709, -5.4309000968933105, -4.473199844360352, -3.4623000621795654, -3.2251999378204346, -4.68149995803833, -4.908100128173828, -3.8310999870300293, -4.940000057220459, -4.525199890136719, -4.587100028991699, -5.0553998947143555, -2.6796998977661133, -3.5215001106262207, -3.980799913406372, -4.093599796295166, -4.184999942779541, -4.290599822998047, -4.3308000564575195, -4.368299961090088, -4.408400058746338, -4.412899971008301, -4.527200222015381, -4.559599876403809, -4.644700050354004, -4.7530999183654785, -4.766300201416016, -4.7769999504089355, -4.793300151824951, -4.833499908447266, -4.931000232696533, -4.941100120544434, -4.942200183868408, -4.957099914550781, -4.887800216674805, -5.032400131225586, -5.036399841308594, -5.080900192260742, -5.13640022277832, -5.149799823760986, -5.183300018310547, -4.642899990081787, -4.257800102233887, -4.319399833679199, -4.796199798583984, -4.692399978637695, -4.5960001945495605, -4.673999786376953, -4.740099906921387, -3.351599931716919, -3.363600015640259, -3.727099895477295, -3.7346999645233154, -3.7451999187469482, -3.7574000358581543, -3.9567999839782715, -4.171299934387207, -4.210899829864502, -4.431300163269043, -4.413599967956543, -4.560299873352051, -4.714200019836426, -4.717199802398682, -4.7399001121521, -4.8780999183654785, -4.807199954986572, -4.855299949645996, -5.143199920654297, -5.1539998054504395, -5.31790018081665, -5.31820011138916, -5.34689998626709, -5.379499912261963, -5.395299911499023, -5.4207000732421875, -5.436399936676025, -5.563000202178955, -5.607100009918213, -5.654200077056885, -5.201099872589111, -2.7355000972747803, -3.716599941253662, -4.518899917602539, -4.342400074005127, -3.9690001010894775, -4.619800090789795, -4.134200096130371, -3.553499937057495, -4.645199775695801, -3.949399948120117, -4.946400165557861, -5.000100135803223, -4.876699924468994, -3.0239999294281006, -3.5589001178741455, -3.9038000106811523, -3.9200000762939453, -4.014100074768066, -4.213399887084961, -4.607699871063232, -4.656899929046631, -4.700900077819824, -4.7230000495910645, -4.760700225830078, -4.803299903869629, -4.130000114440918, -4.868299961090088, -4.878799915313721, -4.915500164031982, -4.939300060272217, -4.993199825286865, -5.008800029754639, -5.079100131988525, -5.079699993133545, -5.1417999267578125, -5.16949987411499, -5.173900127410889, -5.240799903869629, -5.24429988861084, -5.2571001052856445, -5.272600173950195, -5.301499843597412, -5.346799850463867, -4.366399765014648, -4.140200138092041, -4.486299991607666, -4.7204999923706055, -4.897799968719482, -4.892199993133545, -4.88070011138916, -4.861100196838379, -4.981200218200684, -4.883900165557861, -5.065499782562256, -3.716599941253662, -3.8027000427246094, -3.903700113296509, -3.920799970626831, -3.979300022125244, -4.090199947357178, -4.1585001945495605, -4.238500118255615, -4.24429988861084, -4.288700103759766, -4.384300231933594, -4.392600059509277, -4.421899795532227, -4.498600006103516, -4.694499969482422, -4.796800136566162, -4.821400165557861, -4.838600158691406, -4.8491997718811035, -4.891600131988525, -4.921999931335449, -4.959000110626221, -4.96589994430542, -5.001800060272217, -5.135499954223633, -5.192299842834473, -5.215000152587891, -5.27269983291626, -5.384900093078613, -5.394000053405762, -4.731299877166748, -5.310800075531006, -3.317699909210205, -4.602700233459473, -4.266499996185303, -5.0040998458862305, -4.4653000831604, -3.693700075149536, -3.911099910736084, -4.029900074005127, -4.136000156402588, -4.460299968719482, -4.5802001953125, -4.593100070953369, -4.735799789428711, -4.80620002746582, -4.848400115966797, -4.854700088500977, -4.885200023651123, -4.379499912261963, -4.888899803161621, -4.902100086212158, -4.919400215148926, -4.9567999839782715, -4.913000106811523, -4.976799964904785, -5.047399997711182, -5.057199954986572, -5.104100227355957, -5.169600009918213, -5.17549991607666, -5.181000232696533, -5.1946001052856445, -5.241199970245361, -5.255199909210205, -5.274899959564209, -5.271900177001953, -3.985599994659424, -4.292200088500977, -4.827899932861328, -3.675299882888794, -4.333799839019775, -4.429100036621094, -4.705999851226807, -4.877900123596191, -4.042500019073486, -4.658199787139893, -4.822299957275391, -4.773499965667725, -4.630199909210205, -3.735599994659424, -3.9890999794006348, -4.279900074005127, -4.3308000564575195, -4.336299896240234, -4.36269998550415, -4.513400077819824, -4.542099952697754, -4.556099891662598, -4.708600044250488, -4.710400104522705, -4.745500087738037, -4.77810001373291, -4.822800159454346, -4.8541998863220215, -4.880300045013428, -5.08620023727417, -4.992400169372559, -5.109399795532227, -5.111100196838379, -5.150700092315674, -4.842299938201904, -5.240699768066406, -5.242199897766113, -5.244500160217285, -5.260700225830078, -5.261899948120117, -5.3404998779296875, -5.404600143432617, -5.406899929046631, -4.787600040435791, -3.075200080871582, -4.003600120544434, -3.8401999473571777, -4.305200099945068, -4.128300189971924, -4.476900100708008, -4.457399845123291, -4.220699787139893, -4.498600006103516, -4.594200134277344, -4.945499897003174, -4.904799938201904, -3.0755999088287354, -3.809299945831299, -3.811800003051758, -4.033999919891357, -4.21999979019165, -4.434899806976318, -4.479300022125244, -4.560100078582764, -4.655099868774414, -4.684000015258789, -4.69350004196167, -4.766499996185303, -4.783400058746338, -4.798999786376953, -4.7708001136779785, -4.847899913787842, -4.267000198364258, -4.884300231933594, -4.894599914550781, -4.947000026702881, -4.982399940490723, -4.9928998947143555, -5.017499923706055, -5.026800155639648, -5.0467000007629395, -5.104400157928467, -5.1367998123168945, -5.162099838256836, -5.1930999755859375, -5.194499969482422, -5.143599987030029, -3.532399892807007, -4.633200168609619, -3.9725000858306885, -4.706699848175049, -4.694499969482422, -4.721199989318848, -4.810100078582764, -4.958600044250488, -3.463099956512451, -3.700700044631958, -3.8766000270843506, -3.906100034713745, -4.008500099182129, -4.0971999168396, -4.1072998046875, -4.223199844360352, -4.264500141143799, -4.303800106048584, -4.3308000564575195, -4.350299835205078, -4.5817999839782715, -3.9272000789642334, -4.681700229644775, -4.91540002822876, -5.014800071716309, -5.032700061798096, -5.2133002281188965, -5.244100093841553, -5.281499862670898, -5.295000076293945, -5.314899921417236, -5.388400077819824, -5.419600009918213, -5.4440999031066895, -5.452199935913086, -5.470300197601318, -5.485799789428711, -5.502699851989746, -3.6895999908447266, -4.152699947357178, -4.053500175476074, -4.052599906921387, -4.581399917602539, -4.114500045776367, -4.588799953460693, -4.136000156402588, -4.846499919891357, -5.100900173187256, -4.634099960327148, -5.031099796295166, -3.6475000381469727, -3.6579999923706055, -3.9156999588012695, -3.9245998859405518, -3.9449000358581543, -4.206099987030029, -4.233699798583984, -4.24560022354126, -4.210299968719482, -4.344600200653076, -4.4882001876831055, -4.5096001625061035, -4.574699878692627, -4.674099922180176, -4.800000190734863, -4.815100193023682, -4.825200080871582, -4.985799789428711, -5.0065999031066895, -5.0167999267578125, -5.080399990081787, -5.207900047302246, -5.210400104522705, -5.211400032043457, -5.2316999435424805, -5.235499858856201, -5.280200004577637, -5.3007001876831055, -5.303999900817871, -5.307600021362305, -5.173999786376953, -4.13640022277832, -3.6594998836517334, -4.423500061035156, -4.654399871826172, -4.902900218963623, -5.078999996185303, -4.597599983215332, -5.160099983215332, -5.110400199890137], \"loglift\": [30.0, 29.0, 28.0, 27.0, 26.0, 25.0, 24.0, 23.0, 22.0, 21.0, 20.0, 19.0, 18.0, 17.0, 16.0, 15.0, 14.0, 13.0, 12.0, 11.0, 10.0, 9.0, 8.0, 7.0, 6.0, 5.0, 4.0, 3.0, 2.0, 1.0, 2.226900100708008, 2.2267000675201416, 2.226599931716919, 2.2265000343322754, 2.2263998985290527, 2.2262001037597656, 2.2258999347686768, 2.225800037384033, 2.225800037384033, 2.225800037384033, 2.2256999015808105, 2.2255001068115234, 2.2253000736236572, 2.2251999378204346, 2.2249999046325684, 2.224900007247925, 2.2242000102996826, 2.223900079727173, 2.223900079727173, 2.2237000465393066, 2.223599910736084, 2.223400115966797, 2.223099946975708, 2.222899913787842, 2.2228000164031982, 2.222599983215332, 2.2221999168395996, 2.222100019454956, 2.2219998836517334, 2.22189998626709, 2.0155999660491943, 1.7609000205993652, 1.6988999843597412, 1.9294999837875366, 1.9869999885559082, 0.868399977684021, 1.8860000371932983, 1.1159000396728516, 1.0351999998092651, 1.7681000232696533, 2.2513999938964844, 2.2509000301361084, 2.2504000663757324, 2.250200033187866, 2.2500998973846436, 2.2499001026153564, 2.249799966812134, 2.2497000694274902, 2.2497000694274902, 2.2497000694274902, 2.2493999004364014, 2.249300003051758, 2.2490999698638916, 2.248800039291382, 2.248699903488159, 2.248699903488159, 2.2486000061035156, 2.248500108718872, 2.248199939727783, 2.248199939727783, 2.2481000423431396, 2.2481000423431396, 2.247999906539917, 2.24780011177063, 2.2476000785827637, 2.2476000785827637, 2.2474000453948975, 2.247299909591675, 2.2472000122070312, 2.2471001148223877, 2.044800043106079, 1.8623000383377075, 2.0244998931884766, 1.916700005531311, 1.7229000329971313, 0.7019000053405762, 0.5115000009536743, 2.2606000900268555, 2.2606000900268555, 2.2602999210357666, 2.260200023651123, 2.260200023651123, 2.260200023651123, 2.259999990463257, 2.2595999240875244, 2.2595999240875244, 2.2590999603271484, 2.2590999603271484, 2.2588000297546387, 2.2583999633789062, 2.2583999633789062, 2.2583000659942627, 2.2578999996185303, 2.2578001022338867, 2.257499933242798, 2.2567999362945557, 2.2567999362945557, 2.25600004196167, 2.25600004196167, 2.2558000087738037, 2.25570011138916, 2.2555999755859375, 2.2553999423980713, 2.2553000450134277, 2.254499912261963, 2.254199981689453, 2.2539000511169434, 2.242000102996826, 1.9641000032424927, 2.0657999515533447, 2.063199996948242, 2.001300096511841, 1.8746000528335571, 2.0181000232696533, 1.8245999813079834, 1.3705999851226807, 1.8631999492645264, 1.273900032043457, 1.9592000246047974, 2.0083999633789062, 1.5525000095367432, 2.2709999084472656, 2.2706000804901123, 2.27020001411438, 2.27020001411438, 2.2699999809265137, 2.269700050354004, 2.268899917602539, 2.268699884414673, 2.2685999870300293, 2.2685000896453857, 2.268399953842163, 2.2681000232696533, 2.2681000232696533, 2.2681000232696533, 2.2679998874664307, 2.267899990081787, 2.2678000926971436, 2.2676000595092773, 2.2676000595092773, 2.2672998905181885, 2.2672998905181885, 2.2669999599456787, 2.266900062561035, 2.2667999267578125, 2.2664999961853027, 2.2664999961853027, 2.266400098800659, 2.266400098800659, 2.266200065612793, 2.2660000324249268, 2.236799955368042, 1.9874000549316406, 1.9922000169754028, 1.9951000213623047, 2.080699920654297, 2.033600091934204, 1.857699990272522, 1.638800024986267, 1.792099952697754, 0.3677000105381012, 2.0353000164031982, 2.2964999675750732, 2.2964000701904297, 2.2962000370025635, 2.2962000370025635, 2.296099901199341, 2.2959001064300537, 2.295799970626831, 2.2957000732421875, 2.2957000732421875, 2.295599937438965, 2.2953999042510986, 2.2953999042510986, 2.295300006866455, 2.295099973678589, 2.294600009918213, 2.2941999435424805, 2.294100046157837, 2.294100046157837, 2.294100046157837, 2.2939000129699707, 2.293800115585327, 2.2936999797821045, 2.2936999797821045, 2.2934999465942383, 2.292799949645996, 2.2927000522613525, 2.29259991645813, 2.29229998588562, 2.291599988937378, 2.291599988937378, 2.289299964904785, 2.2911999225616455, 2.058300018310547, 1.7889000177383423, 1.4299999475479126, 2.0274999141693115, 0.7149999737739563, 2.3085999488830566, 2.308300018310547, 2.3080999851226807, 2.3078999519348145, 2.307300090789795, 2.306999921798706, 2.3069000244140625, 2.30649995803833, 2.306299924850464, 2.3060998916625977, 2.3060998916625977, 2.305999994277954, 2.305999994277954, 2.305999994277954, 2.305999994277954, 2.3059000968933105, 2.3057000637054443, 2.3057000637054443, 2.3057000637054443, 2.3053998947143555, 2.305299997329712, 2.3050999641418457, 2.304800033569336, 2.304800033569336, 2.304800033569336, 2.3046998977661133, 2.304500102996826, 2.3043999671936035, 2.30430006980896, 2.3041000366210938, 2.180000066757202, 2.16510009765625, 2.211699962615967, 1.947100043296814, 2.0411999225616455, 2.032900094985962, 2.084199905395508, 2.047300100326538, 1.2091000080108643, 1.624500036239624, 1.896299958229065, 1.7874000072479248, 1.3551000356674194, 2.334399938583374, 2.3341000080108643, 2.3334999084472656, 2.333400011062622, 2.333400011062622, 2.333400011062622, 2.3329999446868896, 2.332900047302246, 2.332900047302246, 2.33240008354187, 2.33240008354187, 2.3322999477386475, 2.332200050354004, 2.3320999145507812, 2.3320000171661377, 2.331899881362915, 2.3310000896453857, 2.3310000896453857, 2.330899953842163, 2.330899953842163, 2.330699920654297, 2.330399990081787, 2.330199956893921, 2.330199956893921, 2.330199956893921, 2.3301000595092773, 2.3301000595092773, 2.329699993133545, 2.3292999267578125, 2.3292999267578125, 2.3224000930786133, 2.1050000190734863, 2.1185998916625977, 2.0745999813079834, 2.119999885559082, 2.070499897003174, 2.0724000930786133, 2.0597000122070312, 1.7338000535964966, 1.8169000148773193, 1.8365999460220337, 2.0743000507354736, 1.5866999626159668, 2.341399908065796, 2.3406999111175537, 2.3406999111175537, 2.340399980545044, 2.340100049972534, 2.339600086212158, 2.3394999504089355, 2.3392999172210693, 2.3389999866485596, 2.338900089263916, 2.338900089263916, 2.33870005607605, 2.338599920272827, 2.338599920272827, 2.338399887084961, 2.338399887084961, 2.3382999897003174, 2.3382999897003174, 2.338200092315674, 2.3380000591278076, 2.337899923324585, 2.3378000259399414, 2.3376998901367188, 2.3376998901367188, 2.337599992752075, 2.3373000621795654, 2.3371999263763428, 2.337100028991699, 2.336899995803833, 2.336899995803833, 2.3364999294281006, 2.055299997329712, 2.149399995803833, 1.8194999694824219, 2.088099956512451, 1.8272000551223755, 1.4362000226974487, 1.5169999599456787, 2.049099922180176, 2.357599973678589, 2.357300043106079, 2.357100009918213, 2.3570001125335693, 2.3568999767303467, 2.3566999435424805, 2.3566999435424805, 2.3564999103546143, 2.3564000129699707, 2.356300115585327, 2.356300115585327, 2.3561999797821045, 2.3557000160217285, 2.355600118637085, 2.3554000854492188, 2.3545000553131104, 2.354099988937378, 2.354099988937378, 2.353100061416626, 2.3529999256134033, 2.352799892425537, 2.3526999950408936, 2.35260009765625, 2.3522000312805176, 2.3519999980926514, 2.351799964904785, 2.3517000675201416, 2.351599931716919, 2.3515000343322754, 2.3513998985290527, 2.1528000831604004, 2.131700038909912, 2.090100049972534, 2.04010009765625, 2.0632998943328857, 1.8708000183105469, 2.0418999195098877, 1.4575999975204468, 1.870300054550171, 2.0638999938964844, 1.2611000537872314, 0.8837000131607056, 2.380500078201294, 2.380500078201294, 2.3801000118255615, 2.3801000118255615, 2.3801000118255615, 2.3796000480651855, 2.3796000480651855, 2.3796000480651855, 2.379499912261963, 2.379300117492676, 2.378999948501587, 2.3789000511169434, 2.3787999153137207, 2.378499984741211, 2.378000020980835, 2.378000020980835, 2.3778998851776123, 2.3773000240325928, 2.37719988822937, 2.37719988822937, 2.3768999576568604, 2.376199960708618, 2.376199960708618, 2.376199960708618, 2.3761000633239746, 2.3761000633239746, 2.3757998943328857, 2.375699996948242, 2.375699996948242, 2.375699996948242, 2.374799966812134, 2.1538000106811523, 1.981600046157837, 2.015500068664551, 2.0689001083374023, 2.1561999320983887, 2.090399980545044, 0.9900000095367432, 1.8982000350952148, 0.6815999746322632]}, \"token.table\": {\"Topic\": [10, 6, 3, 7, 1, 4, 5, 9, 2, 2, 6, 7, 3, 10, 1, 10, 1, 10, 1, 3, 8, 1, 3, 9, 1, 2, 5, 6, 8, 9, 10, 3, 10, 1, 2, 4, 5, 7, 8, 9, 10, 2, 3, 6, 6, 4, 5, 6, 7, 7, 6, 1, 1, 1, 8, 5, 3, 1, 3, 6, 7, 7, 7, 10, 2, 2, 9, 4, 4, 6, 1, 10, 6, 8, 3, 7, 1, 8, 1, 3, 2, 1, 3, 1, 2, 3, 10, 6, 10, 9, 7, 9, 7, 4, 2, 9, 2, 7, 5, 7, 3, 5, 10, 2, 4, 2, 7, 9, 8, 10, 4, 2, 2, 4, 5, 7, 8, 8, 3, 3, 1, 10, 4, 6, 9, 5, 9, 4, 9, 1, 7, 1, 6, 2, 10, 7, 1, 7, 1, 3, 5, 7, 4, 1, 8, 2, 1, 4, 1, 6, 8, 9, 10, 4, 2, 1, 10, 8, 3, 10, 4, 2, 4, 10, 1, 10, 3, 5, 8, 4, 9, 3, 1, 6, 2, 7, 2, 3, 6, 8, 9, 4, 7, 9, 5, 7, 6, 3, 9, 1, 1, 2, 5, 5, 4, 9, 7, 7, 4, 2, 1, 1, 3, 10, 3, 7, 3, 6, 5, 2, 5, 7, 8, 2, 9, 5, 2, 3, 4, 5, 9, 4, 3, 5, 8, 9, 2, 6, 7, 10, 9, 10, 5, 2, 3, 5, 7, 8, 9, 6, 1, 8, 8, 9, 10, 8, 3, 6, 8, 9, 1, 8, 9, 3, 4, 10, 4, 10, 4, 7, 2, 4, 6, 7, 4, 3, 5, 1, 10, 4, 10, 6, 5, 3, 2, 7, 9, 2, 3, 4, 6, 7, 9, 1, 5, 4, 9, 8, 10, 2, 4, 6, 7, 9, 2, 9, 8, 2, 2, 4, 7, 10, 3, 4, 9, 10, 1, 6, 7, 6, 5, 6, 1, 4, 8, 8, 4, 5, 10, 6, 9, 6, 1, 1, 3, 6, 9, 5, 4, 3, 4, 10, 2, 5, 5, 6, 3, 7, 9, 10, 1, 3, 10, 2, 5, 7, 9, 2, 6, 6, 7, 8, 3, 6, 8, 9, 2, 10, 8, 10, 4, 8, 4, 7, 8, 2, 4, 5, 6, 7, 9, 2, 9, 8, 1, 1, 3, 4, 4, 2, 1, 6, 3, 6, 1, 6, 4, 5, 7, 7, 7, 8, 10, 2, 3, 4, 2, 4, 6, 8, 3, 4, 5, 2, 3, 6, 1, 7, 2, 6, 7, 5, 6, 9, 10, 4, 2, 4, 6, 7, 8, 6, 9, 10, 8, 1, 1, 5, 9, 10, 8, 9, 5, 6, 2, 3, 6, 10, 9, 9, 5, 6, 2, 8, 2, 5, 7, 10, 3, 5, 8, 4, 9, 3, 10, 1, 10, 2, 4, 8, 9, 10, 7, 3, 6, 9, 3, 3, 8, 7, 7, 10, 5, 9, 1, 4, 8, 3, 5, 2, 3, 5, 8, 5, 2, 5, 9, 7, 8, 6, 8, 2, 6, 1, 3, 2, 5, 4, 10, 2, 6, 7, 7, 5, 3, 9, 8, 8, 7, 5, 4, 6, 4, 5, 10, 5, 4, 7, 10, 3, 10, 8, 2, 4, 5, 6, 8, 10, 3, 10, 6, 7, 6, 8, 2, 4, 7, 7, 9, 2, 5, 2, 7, 9, 4, 8, 9, 10, 9, 2, 8, 3, 5, 1, 3, 5, 9, 6, 3, 6, 8, 10, 1], \"Freq\": [0.9964708685874939, 0.9966390132904053, 0.9983496069908142, 0.9988631010055542, 0.99738609790802, 0.6610087752342224, 0.17626900970935822, 0.16071586310863495, 0.9985082149505615, 0.9973191618919373, 0.9963589310646057, 0.9957062602043152, 0.8203138709068298, 0.17736515402793884, 0.9981592893600464, 0.993628203868866, 0.9981262683868408, 0.9934629201889038, 0.22036810219287872, 0.6791151762008667, 0.100648894906044, 0.015735110267996788, 0.9808218479156494, 0.9969258308410645, 0.08255045861005783, 0.12159459292888641, 0.004462186712771654, 0.1606387197971344, 0.15171435475349426, 0.3335484564304352, 0.14502106606960297, 0.9967052936553955, 0.9943486452102661, 0.9962354302406311, 0.009900863282382488, 0.11633514612913132, 0.1460377424955368, 0.14686280488967896, 0.08415734022855759, 0.4059354066848755, 0.08993284404277802, 0.998226523399353, 0.995161771774292, 0.9958997964859009, 0.9977129697799683, 0.9928395748138428, 0.9973823428153992, 0.9982336759567261, 0.9913655519485474, 0.9973071217536926, 0.9948820471763611, 0.9981375932693481, 0.9977055191993713, 0.2511237561702728, 0.7465841770172119, 0.9985690116882324, 0.9915245771408081, 0.1753709614276886, 0.002541608177125454, 0.6608180999755859, 0.16012130677700043, 0.9988710880279541, 0.9961441159248352, 0.99727463722229, 0.9967923164367676, 0.9975122213363647, 0.990650475025177, 0.9995632171630859, 0.9972230792045593, 0.9931141138076782, 0.9984848499298096, 0.001088860328309238, 0.9976164698600769, 0.9953648447990417, 0.770359218120575, 0.2270900160074234, 0.9970806241035461, 0.9950862526893616, 0.9959683418273926, 0.9957557916641235, 0.9994933605194092, 0.627277672290802, 0.3726063668727875, 0.1818891167640686, 0.009510542266070843, 0.6467168927192688, 0.16049039363861084, 0.25128987431526184, 0.7458922266960144, 0.9911051988601685, 0.7701578140258789, 0.22865836322307587, 0.9968233108520508, 0.99819016456604, 0.9986110925674438, 0.9979235529899597, 0.9962372183799744, 0.993104100227356, 0.9960280060768127, 0.997329831123352, 0.995387077331543, 0.9972295761108398, 0.9910363554954529, 0.24070341885089874, 0.7575823068618774, 0.9990846514701843, 0.9964714050292969, 0.9987086057662964, 0.9988906979560852, 0.9947521686553955, 0.9950752258300781, 0.997621476650238, 0.22075645625591278, 0.1498713493347168, 0.1539219319820404, 0.47391751408576965, 0.0020252885296940804, 0.9957472681999207, 0.9935831427574158, 0.9994646906852722, 0.328804612159729, 0.6705883741378784, 0.9933291077613831, 0.27182096242904663, 0.7271210551261902, 0.9933778047561646, 0.0034372934605926275, 0.7529268264770508, 0.24628446996212006, 0.9984341859817505, 0.9971432089805603, 0.30314335227012634, 0.6954465508460999, 0.20007270574569702, 0.7967180609703064, 0.9975090622901917, 0.741767406463623, 0.2556244730949402, 0.6322306394577026, 0.19192714989185333, 0.1749924123287201, 0.9939303398132324, 0.9962015748023987, 0.0022692144848406315, 0.9961851835250854, 0.9935314059257507, 0.9985952377319336, 0.9921671748161316, 0.995548665523529, 0.9943655729293823, 0.9943581223487854, 0.993490993976593, 0.9979024529457092, 0.9984984993934631, 0.9972663521766663, 0.9994055032730103, 0.9964602589607239, 0.9929291009902954, 0.9942675828933716, 0.9931666254997253, 0.9993672370910645, 0.5896512866020203, 0.22324948012828827, 0.18575720489025116, 0.995090901851654, 0.9928610920906067, 0.9953498840332031, 0.9959650039672852, 0.9940828084945679, 0.9954895973205566, 0.9957082867622375, 0.9996176362037659, 0.1330808699131012, 0.8650256395339966, 0.8131404519081116, 0.18610018491744995, 0.6774592399597168, 0.0029713124968111515, 0.14113734662532806, 0.17679309844970703, 0.0014856562484055758, 0.2266945093870163, 0.769387423992157, 0.9931800365447998, 0.23122070729732513, 0.767713189125061, 0.9937025904655457, 0.9931793808937073, 0.9989450573921204, 0.99945068359375, 0.9981867671012878, 0.21239347755908966, 0.7871833443641663, 0.9974642395973206, 0.0016436009900644422, 0.9976658225059509, 0.9977207183837891, 0.9954644441604614, 0.9983183145523071, 0.99518883228302, 0.9972354173660278, 0.16890616714954376, 0.6715049743652344, 0.15860700607299805, 0.7384076118469238, 0.2573702931404114, 0.9947001338005066, 0.9966960549354553, 0.993617832660675, 0.19631406664848328, 0.17725443840026855, 0.6080018281936646, 0.019059617072343826, 0.9965410828590393, 0.9959344267845154, 0.9984658360481262, 0.005708681419491768, 0.49284952878952026, 0.18267780542373657, 0.16555176675319672, 0.15413440763950348, 0.9980510473251343, 0.9976903200149536, 0.2105669230222702, 0.17251265048980713, 0.6139420866966248, 0.15268360078334808, 0.15031641721725464, 0.5480039119720459, 0.14794921875, 0.9926410913467407, 0.993682324886322, 0.9978503584861755, 0.1997527778148651, 0.0054977829568088055, 0.6010909676551819, 0.17043127119541168, 0.021991131827235222, 0.9968286156654358, 0.9937149882316589, 0.9991609454154968, 0.9940398931503296, 0.9968070387840271, 0.9957861304283142, 0.9976312518119812, 0.9985281825065613, 0.026313940063118935, 0.8785932064056396, 0.010233198292553425, 0.08478935807943344, 0.9944921135902405, 0.9938935041427612, 0.9992291331291199, 0.0018445189343765378, 0.9960402250289917, 0.998987078666687, 0.9933662414550781, 0.9935691356658936, 0.9970648288726807, 0.992218017578125, 0.9976204633712769, 0.08758874982595444, 0.9074195027351379, 0.003503550076857209, 0.9989937543869019, 0.9926111698150635, 0.999060869216919, 0.7102109789848328, 0.2857820987701416, 0.8272106647491455, 0.17137432098388672, 0.996773898601532, 0.9953325390815735, 0.9982489347457886, 0.0112763037905097, 0.9885559678077698, 0.9958819150924683, 0.9962925910949707, 0.9993879795074463, 0.22594960033893585, 0.0071503035724163055, 0.001430060714483261, 0.7650824785232544, 0.7852792143821716, 0.2122376263141632, 0.25257736444473267, 0.7435688972473145, 0.7504733204841614, 0.24851737916469574, 0.09394563734531403, 0.530997097492218, 0.1347915679216385, 0.1450030505657196, 0.09394563734531403, 0.9955787658691406, 0.0030169053934514523, 0.998045027256012, 0.9975054264068604, 0.25475001335144043, 0.1409616619348526, 0.596114993095398, 0.00679333321750164, 0.995341420173645, 0.2008565366268158, 0.7968407273292542, 0.9973067045211792, 0.8098526000976562, 0.18984076380729675, 0.9950702786445618, 0.9944026470184326, 0.9982587695121765, 0.9957875609397888, 0.20858092606067657, 0.7896277904510498, 0.9951935410499573, 0.9969086050987244, 0.9957394003868103, 0.9977371096611023, 0.9980289936065674, 0.2501416802406311, 0.7464545369148254, 0.9951379895210266, 0.9983300566673279, 0.5892658233642578, 0.4101628363132477, 0.3845401108264923, 0.6140434145927429, 0.9987819194793701, 0.9984347224235535, 0.9960154294967651, 0.9957393407821655, 0.9928721785545349, 0.715255618095398, 0.2824576497077942, 0.22810743749141693, 0.768690824508667, 0.9985551238059998, 0.9953898787498474, 0.2020319104194641, 0.7965356707572937, 0.17638155817985535, 0.8221174478530884, 0.9969093203544617, 0.9985095262527466, 0.20520436763763428, 0.7940754294395447, 0.996959388256073, 0.9943304061889648, 0.9982768297195435, 0.18577341735363007, 0.21499620378017426, 0.5969797372817993, 0.9953823089599609, 0.9974091649055481, 0.9937554001808167, 0.99904865026474, 0.2655508518218994, 0.7302648425102234, 0.9959697127342224, 0.9973907470703125, 0.9944061636924744, 0.9973238110542297, 0.1933157593011856, 0.8054823279380798, 0.995320737361908, 0.17524029314517975, 0.14886632561683655, 0.1213202029466629, 0.33289793133735657, 0.1178036704659462, 0.10373756289482117, 0.998198926448822, 0.9972178936004639, 0.9969869256019592, 0.9980405569076538, 0.2568100690841675, 0.7427582144737244, 0.9947812557220459, 0.9943877458572388, 0.999182403087616, 0.9958095550537109, 0.9981071352958679, 0.4059325158596039, 0.5926180481910706, 0.9930739402770996, 0.9982485771179199, 0.21896129846572876, 0.7646267414093018, 0.013902304694056511, 0.9985758662223816, 0.7681406736373901, 0.2295839488506317, 0.9956391453742981, 0.23389266431331635, 0.0099954130128026, 0.7556532025337219, 0.18899653851985931, 0.1752513349056244, 0.19586914777755737, 0.43812835216522217, 0.0022644333075731993, 0.9669130444526672, 0.029437635093927383, 0.21335001289844513, 0.7830649018287659, 0.9960193634033203, 0.9954531788825989, 0.9974425435066223, 0.997941792011261, 0.9987547397613525, 0.9965733885765076, 0.9945155382156372, 0.9983525276184082, 0.9964932799339294, 0.9967309832572937, 0.9941502213478088, 0.19070962071418762, 0.7878496050834656, 0.006252774503082037, 0.0031263872515410185, 0.009379161521792412, 0.2700077295303345, 0.7285553216934204, 0.9986611604690552, 0.9958098530769348, 0.9991363883018494, 0.9963158369064331, 0.9976015090942383, 0.9967511296272278, 0.9991437792778015, 0.8236703276634216, 0.1734042763710022, 0.9960114359855652, 0.9994942545890808, 0.19557709991931915, 0.06409669667482376, 0.5045560598373413, 0.2350212186574936, 0.9911791682243347, 0.9981082677841187, 0.19929416477680206, 0.7971766591072083, 0.9985858798027039, 0.9971524477005005, 0.9997093081474304, 0.9952835440635681, 0.8049058318138123, 0.19457724690437317, 0.9975125193595886, 0.22216887772083282, 0.7762196660041809, 0.9984036684036255, 0.9964438080787659, 0.9989246726036072, 0.9938660264015198, 0.9961113929748535, 0.9971035122871399, 0.2900020182132721, 0.2015513926744461, 0.4045528173446655, 0.001450010109692812, 0.10150070488452911, 0.9991042613983154, 0.9988255500793457, 0.7589343190193176, 0.23987042903900146, 0.9976140856742859, 0.9922711253166199, 0.9979499578475952, 0.996383547782898, 0.9965736865997314, 0.9966180324554443, 0.9974305629730225, 0.9972221851348877, 0.9972861409187317, 0.9966138601303101, 0.9954947829246521, 0.9983199238777161, 0.9973227977752686, 0.7965550422668457, 0.1998424232006073, 0.9949160814285278, 0.9982552528381348, 0.9953979253768921, 0.9975359439849854, 0.9959512948989868, 0.9973286986351013, 0.7583542466163635, 0.2389335185289383, 0.9955670833587646, 0.9977362751960754, 0.2343263030052185, 0.7642642855644226, 0.2207549512386322, 0.7777367234230042, 0.9979932308197021, 0.9953153729438782, 0.9986870884895325, 0.9987713694572449, 0.0024587344378232956, 0.995787501335144, 0.9982201457023621, 0.996423065662384, 0.9988515377044678, 0.9959954023361206, 0.9984462261199951, 0.996817409992218, 0.9973756670951843, 0.993748128414154, 0.9990957975387573, 0.9950473308563232, 0.9947795867919922, 0.9981318116188049, 0.997180700302124, 0.9963853359222412, 0.9958386421203613, 0.9952021241188049, 0.9946231245994568, 0.9966534972190857, 0.9986210465431213, 0.9979012608528137, 0.9976012110710144, 0.1911424845457077, 0.1783386766910553, 0.41978180408477783, 0.010974687524139881, 0.10060130804777145, 0.09785763174295425, 0.305541455745697, 0.6937136650085449, 0.9961409568786621, 0.9978668689727783, 0.9987424612045288, 0.9945321083068848, 0.19328610599040985, 0.6201262474060059, 0.1852325201034546, 0.9970928430557251, 0.999279797077179, 0.9964205622673035, 0.9990343451499939, 0.9950057864189148, 0.18518312275409698, 0.8137475252151489, 0.1284964680671692, 0.06067889183759689, 0.19274471700191498, 0.6174969673156738, 0.9969218373298645, 0.9968865513801575, 0.9993131756782532, 0.9914385080337524, 0.9957449436187744, 0.9985315203666687, 0.0009340799879282713, 0.9985877275466919, 0.9975879192352295, 0.9962106943130493, 0.15797221660614014, 0.06540250778198242, 0.5926473736763, 0.1831270307302475, 0.9980010390281677], \"Term\": [\"abuse\", \"accident\", \"accuse\", \"action\", \"admit\", \"ahead\", \"ahead\", \"ahead\", \"aid\", \"air\", \"announce\", \"anti\", \"appeal\", \"appeal\", \"arrest\", \"arrive\", \"assault\", \"asylum\", \"attack\", \"attack\", \"attack\", \"attempt\", \"attempt\", \"aussie\", \"australian\", \"australian\", \"australian\", \"australian\", \"australian\", \"australian\", \"australian\", \"avoid\", \"award\", \"baby\", \"back\", \"back\", \"back\", \"back\", \"back\", \"back\", \"back\", \"bad\", \"bail\", \"bank\", \"battle\", \"become\", \"begin\", \"bid\", \"bird\", \"black\", \"blame\", \"boat\", \"body\", \"bomb\", \"bomb\", \"boost\", \"boss\", \"break\", \"break\", \"break\", \"break\", \"budget\", \"building\", \"bus\", \"bushfire\", \"business\", \"buy\", \"call\", \"campaign\", \"candidate\", \"car\", \"car\", \"carbon\", \"care\", \"case\", \"case\", \"catch\", \"cattle\", \"celebrate\", \"challenge\", \"change\", \"charge\", \"charge\", \"child\", \"child\", \"child\", \"child\", \"chinese\", \"chinese\", \"city\", \"claim\", \"claim\", \"clean\", \"clear\", \"climate\", \"close\", \"closure\", \"coach\", \"coal\", \"coalition\", \"coast\", \"come\", \"comment\", \"community\", \"community\", \"concern\", \"confirm\", \"consider\", \"continue\", \"contract\", \"control\", \"could\", \"council\", \"council\", \"council\", \"council\", \"council\", \"country\", \"couple\", \"court\", \"crash\", \"crash\", \"criticise\", \"cut\", \"cut\", \"damage\", \"damage\", \"day\", \"day\", \"dead\", \"deal\", \"death\", \"death\", \"debate\", \"debate\", \"decision\", \"defend\", \"defend\", \"delay\", \"delay\", \"delay\", \"deliver\", \"demand\", \"deny\", \"deny\", \"development\", \"die\", \"dispute\", \"dog\", \"dollar\", \"doubt\", \"draw\", \"driver\", \"drop\", \"drought\", \"drug\", \"dump\", \"ease\", \"economic\", \"education\", \"election\", \"end\", \"end\", \"end\", \"energy\", \"escape\", \"evidence\", \"expansion\", \"export\", \"extend\", \"eye\", \"face\", \"fall\", \"fall\", \"farmer\", \"farmer\", \"fear\", \"fear\", \"fear\", \"fear\", \"fear\", \"federal\", \"federal\", \"fee\", \"fight\", \"fight\", \"figure\", \"film\", \"final\", \"find\", \"fine\", \"fire\", \"fire\", \"firefighter\", \"first\", \"first\", \"flood\", \"flu\", \"focus\", \"food\", \"force\", \"former\", \"former\", \"former\", \"free\", \"free\", \"front\", \"fuel\", \"full\", \"funding\", \"funding\", \"funding\", \"funding\", \"future\", \"game\", \"get\", \"give\", \"give\", \"give\", \"give\", \"give\", \"go\", \"gold\", \"good\", \"good\", \"good\", \"government\", \"government\", \"government\", \"government\", \"grain\", \"grant\", \"green\", \"group\", \"group\", \"group\", \"group\", \"group\", \"grow\", \"growth\", \"guilty\", \"gun\", \"hand\", \"harvest\", \"head\", \"health\", \"high\", \"high\", \"high\", \"high\", \"highlight\", \"highway\", \"hit\", \"hold\", \"hold\", \"home\", \"honour\", \"horse\", \"housing\", \"hurt\", \"impact\", \"increase\", \"increase\", \"increase\", \"indigenous\", \"indonesian\", \"industry\", \"injure\", \"injure\", \"inquiry\", \"inquiry\", \"interest\", \"interview\", \"investigate\", \"investigation\", \"investigation\", \"investment\", \"issue\", \"jail\", \"job\", \"job\", \"job\", \"job\", \"join\", \"join\", \"keep\", \"keep\", \"kill\", \"kill\", \"labor\", \"labor\", \"labor\", \"labor\", \"labor\", \"land\", \"land\", \"late\", \"launch\", \"law\", \"law\", \"law\", \"law\", \"lawyer\", \"lead\", \"lead\", \"leader\", \"leave\", \"leave\", \"legal\", \"level\", \"life\", \"lift\", \"link\", \"link\", \"list\", \"live\", \"long\", \"look\", \"lose\", \"loss\", \"loss\", \"low\", \"make\", \"man\", \"man\", \"market\", \"market\", \"may\", \"medium\", \"meet\", \"meeting\", \"military\", \"mine\", \"mine\", \"mining\", \"mining\", \"miss\", \"money\", \"move\", \"move\", \"murder\", \"murder\", \"name\", \"need\", \"new\", \"new\", \"northern\", \"nuclear\", \"number\", \"offer\", \"offer\", \"offer\", \"officer\", \"oil\", \"old\", \"open\", \"opposition\", \"opposition\", \"owner\", \"parent\", \"party\", \"patient\", \"pay\", \"pay\", \"phone\", \"plan\", \"plan\", \"plan\", \"plan\", \"plan\", \"plan\", \"plane\", \"play\", \"player\", \"plead\", \"police\", \"police\", \"political\", \"poll\", \"power\", \"praise\", \"price\", \"probe\", \"probe\", \"problem\", \"profit\", \"project\", \"project\", \"project\", \"promise\", \"protest\", \"protest\", \"protester\", \"public\", \"public\", \"public\", \"push\", \"push\", \"push\", \"push\", \"put\", \"put\", \"put\", \"question\", \"question\", \"quit\", \"raid\", \"rain\", \"raise\", \"rate\", \"reach\", \"ready\", \"record\", \"red\", \"refugee\", \"refuse\", \"regional\", \"regional\", \"regional\", \"regional\", \"regional\", \"reject\", \"reject\", \"release\", \"remain\", \"report\", \"rescue\", \"resident\", \"resign\", \"return\", \"review\", \"review\", \"right\", \"rise\", \"road\", \"road\", \"road\", \"road\", \"role\", \"run\", \"rural\", \"rural\", \"safety\", \"sale\", \"say\", \"scheme\", \"school\", \"school\", \"search\", \"second\", \"second\", \"security\", \"see\", \"seek\", \"seeker\", \"seize\", \"sentence\", \"service\", \"service\", \"service\", \"service\", \"service\", \"set\", \"sex\", \"share\", \"share\", \"shoot\", \"shooting\", \"show\", \"sign\", \"site\", \"soldier\", \"speak\", \"spot\", \"stab\", \"staff\", \"stage\", \"stand\", \"start\", \"station\", \"station\", \"stay\", \"steal\", \"step\", \"still\", \"stop\", \"storm\", \"strike\", \"strike\", \"strong\", \"student\", \"support\", \"support\", \"suspect\", \"suspect\", \"system\", \"tackle\", \"take\", \"talk\", \"tax\", \"tax\", \"teacher\", \"team\", \"tell\", \"terror\", \"test\", \"third\", \"threat\", \"tiger\", \"time\", \"tip\", \"toll\", \"top\", \"tough\", \"tour\", \"tourism\", \"town\", \"trade\", \"train\", \"trial\", \"truck\", \"turn\", \"urge\", \"urge\", \"urge\", \"urge\", \"urge\", \"urge\", \"victim\", \"victim\", \"victorian\", \"victory\", \"violence\", \"visit\", \"vote\", \"vote\", \"vote\", \"vow\", \"want\", \"war\", \"warn\", \"warning\", \"water\", \"water\", \"week\", \"week\", \"week\", \"week\", \"welcome\", \"well\", \"win\", \"witness\", \"woe\", \"woman\", \"woman\", \"work\", \"world\", \"worry\", \"year\", \"year\", \"year\", \"year\", \"youth\"]}, \"R\": 30, \"lambda.step\": 0.01, \"plot.opts\": {\"xlab\": \"PC1\", \"ylab\": \"PC2\"}, \"topic.order\": [6, 7, 1, 10, 9, 2, 3, 4, 8, 5]};\n",
       "\n",
       "function LDAvis_load_lib(url, callback){\n",
       "  var s = document.createElement('script');\n",
       "  s.src = url;\n",
       "  s.async = true;\n",
       "  s.onreadystatechange = s.onload = callback;\n",
       "  s.onerror = function(){console.warn(\"failed to load library \" + url);};\n",
       "  document.getElementsByTagName(\"head\")[0].appendChild(s);\n",
       "}\n",
       "\n",
       "if(typeof(LDAvis) !== \"undefined\"){\n",
       "   // already loaded: just create the visualization\n",
       "   !function(LDAvis){\n",
       "       new LDAvis(\"#\" + \"ldavis_el1408424012249194648079079449\", ldavis_el1408424012249194648079079449_data);\n",
       "   }(LDAvis);\n",
       "}else if(typeof define === \"function\" && define.amd){\n",
       "   // require.js is available: use it to load d3/LDAvis\n",
       "   require.config({paths: {d3: \"https://cdnjs.cloudflare.com/ajax/libs/d3/3.5.5/d3.min\"}});\n",
       "   require([\"d3\"], function(d3){\n",
       "      window.d3 = d3;\n",
       "      LDAvis_load_lib(\"https://cdn.rawgit.com/bmabey/pyLDAvis/files/ldavis.v1.0.0.js\", function(){\n",
       "        new LDAvis(\"#\" + \"ldavis_el1408424012249194648079079449\", ldavis_el1408424012249194648079079449_data);\n",
       "      });\n",
       "    });\n",
       "}else{\n",
       "    // require.js not available: dynamically load d3 & LDAvis\n",
       "    LDAvis_load_lib(\"https://cdnjs.cloudflare.com/ajax/libs/d3/3.5.5/d3.min.js\", function(){\n",
       "         LDAvis_load_lib(\"https://cdn.rawgit.com/bmabey/pyLDAvis/files/ldavis.v1.0.0.js\", function(){\n",
       "                 new LDAvis(\"#\" + \"ldavis_el1408424012249194648079079449\", ldavis_el1408424012249194648079079449_data);\n",
       "            })\n",
       "         });\n",
       "}\n",
       "</script>"
      ],
      "text/plain": [
       "PreparedData(topic_coordinates=              x         y  topics  cluster       Freq\n",
       "topic                                                \n",
       "5     -0.302786  0.077113       1        1  10.777910\n",
       "6      0.138571 -0.060666       2        1  10.520956\n",
       "0     -0.334330  0.018472       3        1  10.421007\n",
       "9      0.133171 -0.090292       4        1  10.315355\n",
       "8      0.106955  0.045294       5        1  10.050244\n",
       "1      0.053416  0.240316       6        1   9.929502\n",
       "2      0.145610  0.027928       7        1   9.675430\n",
       "3      0.021447 -0.196924       8        1   9.613272\n",
       "7      0.094935  0.190495       9        1   9.456324\n",
       "4     -0.056989 -0.251737      10        1   9.240005, topic_info=        Term         Freq        Total Category  logprob  loglift\n",
       "132      say  2350.000000  2350.000000  Default  30.0000  30.0000\n",
       "60    police  2963.000000  2963.000000  Default  29.0000  29.0000\n",
       "94      call  1633.000000  1633.000000  Default  28.0000  28.0000\n",
       "3        man  2367.000000  2367.000000  Default  27.0000  27.0000\n",
       "54       win  1445.000000  1445.000000  Default  26.0000  26.0000\n",
       "..       ...          ...          ...      ...      ...      ...\n",
       "803   debate   223.416122   279.898254  Topic10  -4.9029   2.1562\n",
       "699  chinese   187.358536   250.706467  Topic10  -5.0790   2.0904\n",
       "170     kill   303.181366  1219.230591  Topic10  -4.5976   0.9900\n",
       "207     week   172.763306   280.163330  Topic10  -5.1601   1.8982\n",
       "48      year   181.558090   993.845642  Topic10  -5.1104   0.6816\n",
       "\n",
       "[436 rows x 6 columns], token_table=      Topic      Freq      Term\n",
       "term                           \n",
       "589      10  0.996471     abuse\n",
       "1513      6  0.996639  accident\n",
       "190       3  0.998350    accuse\n",
       "268       7  0.998863    action\n",
       "1286      1  0.997386     admit\n",
       "...     ...       ...       ...\n",
       "48        3  0.157972      year\n",
       "48        6  0.065403      year\n",
       "48        8  0.592647      year\n",
       "48       10  0.183127      year\n",
       "731       1  0.998001     youth\n",
       "\n",
       "[563 rows x 3 columns], R=30, lambda_step=0.01, plot_opts={'xlab': 'PC1', 'ylab': 'PC2'}, topic_order=[6, 7, 1, 10, 9, 2, 3, 4, 8, 5])"
      ]
     },
     "execution_count": 16,
     "metadata": {},
     "output_type": "execute_result"
    }
   ],
   "source": [
    "import pyLDAvis.gensim\n",
    "pyLDAvis.enable_notebook()\n",
    "vis = pyLDAvis.gensim.prepare(lda_model, bow_corpus, dictionary=lda_model.id2word)\n",
    "vis"
   ]
  },
  {
   "cell_type": "markdown",
   "metadata": {},
   "source": [
    "We print the top 10 words of each of the top 10 topics in descending order of importance."
   ]
  },
  {
   "cell_type": "code",
   "execution_count": 17,
   "metadata": {},
   "outputs": [
    {
     "name": "stdout",
     "output_type": "stream",
     "text": [
      "Topic  0\n",
      "---------\n",
      "\"police\"\n",
      "\"court\"\n",
      "\"face\"\n",
      "\"man\"\n",
      "\"murder\"\n",
      "\"jail\"\n",
      "\"accuse\"\n",
      "\"seek\"\n",
      "\"miss\"\n",
      "\"charge\"\n",
      "\n",
      "\n",
      "Topic  1\n",
      "---------\n",
      "\"death\"\n",
      "\"rise\"\n",
      "\"price\"\n",
      "\"high\"\n",
      "\"rate\"\n",
      "\"plan\"\n",
      "\"record\"\n",
      "\"fall\"\n",
      "\"support\"\n",
      "\"tax\"\n",
      "\n",
      "\n",
      "Topic  2\n",
      "---------\n",
      "\"new\"\n",
      "\"set\"\n",
      "\"claim\"\n",
      "\"flood\"\n",
      "\"school\"\n",
      "\"fight\"\n",
      "\"government\"\n",
      "\"rain\"\n",
      "\"pay\"\n",
      "\"action\"\n",
      "\n",
      "\n",
      "Topic  3\n",
      "---------\n",
      "\"win\"\n",
      "\"kill\"\n",
      "\"continue\"\n",
      "\"health\"\n",
      "\"year\"\n",
      "\"show\"\n",
      "\"student\"\n",
      "\"deny\"\n",
      "\"sale\"\n",
      "\"threat\"\n",
      "\n",
      "\n",
      "Topic  4\n",
      "---------\n",
      "\"talk\"\n",
      "\"home\"\n",
      "\"crash\"\n",
      "\"return\"\n",
      "\"lose\"\n",
      "\"driver\"\n",
      "\"move\"\n",
      "\"name\"\n",
      "\"release\"\n",
      "\"leader\"\n",
      "\n",
      "\n",
      "Topic  5\n",
      "---------\n",
      "\"man\"\n",
      "\"find\"\n",
      "\"charge\"\n",
      "\"woman\"\n",
      "\"report\"\n",
      "\"car\"\n",
      "\"die\"\n",
      "\"make\"\n",
      "\"police\"\n",
      "\"drug\"\n",
      "\n",
      "\n",
      "Topic  6\n",
      "---------\n",
      "\"say\"\n",
      "\"change\"\n",
      "\"concern\"\n",
      "\"could\"\n",
      "\"power\"\n",
      "\"farmer\"\n",
      "\"still\"\n",
      "\"fear\"\n",
      "\"need\"\n",
      "\"business\"\n",
      "\n",
      "\n",
      "Topic  7\n",
      "---------\n",
      "\"hit\"\n",
      "\"water\"\n",
      "\"open\"\n",
      "\"test\"\n",
      "\"want\"\n",
      "\"first\"\n",
      "\"close\"\n",
      "\"cut\"\n",
      "\"job\"\n",
      "\"consider\"\n",
      "\n",
      "\n",
      "Topic  8\n",
      "---------\n",
      "\"fire\"\n",
      "\"warn\"\n",
      "\"get\"\n",
      "\"boost\"\n",
      "\"may\"\n",
      "\"work\"\n",
      "\"tell\"\n",
      "\"time\"\n",
      "\"resident\"\n",
      "\"industry\"\n",
      "\n",
      "\n",
      "Topic  9\n",
      "---------\n",
      "\"call\"\n",
      "\"take\"\n",
      "\"go\"\n",
      "\"election\"\n",
      "\"indigenous\"\n",
      "\"hold\"\n",
      "\"day\"\n",
      "\"top\"\n",
      "\"put\"\n",
      "\"public\"\n",
      "\n",
      "\n"
     ]
    }
   ],
   "source": [
    "for a, b in lda_model.print_topics(num_topics=-1, num_words=10):\n",
    "    print('Topic ',a)\n",
    "    print('---------')\n",
    "    for word in b.split(' + '):\n",
    "        num, key = word[:5], word[6:]\n",
    "        print(key)\n",
    "    print('\\n')"
   ]
  },
  {
   "cell_type": "markdown",
   "metadata": {},
   "source": [
    "A Scikit-learn implementation using the sklearn CountVectorizer to clean and tokenize the corpus. The same dataset extract (first 100,000 lines) is used here."
   ]
  },
  {
   "cell_type": "code",
   "execution_count": 18,
   "metadata": {},
   "outputs": [],
   "source": [
    "from sklearn.feature_extraction.text import CountVectorizer\n",
    "from sklearn.decomposition import LatentDirichletAllocation\n",
    "\n",
    "all_words = df.headline_text.head(100000)"
   ]
  },
  {
   "cell_type": "code",
   "execution_count": 19,
   "metadata": {},
   "outputs": [
    {
     "data": {
      "text/plain": [
       "CountVectorizer(stop_words='english')"
      ]
     },
     "execution_count": 19,
     "metadata": {},
     "output_type": "execute_result"
    }
   ],
   "source": [
    "vect = CountVectorizer(stop_words=\"english\")\n",
    "vect.fit(all_words)"
   ]
  },
  {
   "cell_type": "code",
   "execution_count": 20,
   "metadata": {},
   "outputs": [
    {
     "name": "stdout",
     "output_type": "stream",
     "text": [
      "37641\n"
     ]
    }
   ],
   "source": [
    "print(len(vect.vocabulary_))"
   ]
  },
  {
   "cell_type": "code",
   "execution_count": 21,
   "metadata": {},
   "outputs": [],
   "source": [
    "bag_of_words = vect.transform(all_words)"
   ]
  },
  {
   "cell_type": "markdown",
   "metadata": {},
   "source": [
    "Here we use the online learning method, which differs from the batch learning method. "
   ]
  },
  {
   "cell_type": "code",
   "execution_count": 22,
   "metadata": {},
   "outputs": [],
   "source": [
    "lda = LatentDirichletAllocation(n_components=10, learning_method=\"online\",\n",
    "                                max_iter=10, random_state=0, n_jobs=3, \n",
    "                                verbose=0)\n",
    "# be build the model and transform the data in one step\n",
    "# computing transform takes some time,\n",
    "# and we can save time by doing both at once.\n",
    "document_topics = lda.fit_transform(bag_of_words)"
   ]
  },
  {
   "cell_type": "code",
   "execution_count": 23,
   "metadata": {},
   "outputs": [],
   "source": [
    "# for each topic (a row in the components_), sort the features (ascending).\n",
    "# Invert rows with [:, ::-1] to make sorting descending\n",
    "sorting = np.argsort(lda.components_, axis=1)[:, ::-1]\n",
    "# get the feature names from the vectorizer:\n",
    "feature_names = np.array(vect.get_feature_names())"
   ]
  },
  {
   "cell_type": "markdown",
   "metadata": {},
   "source": [
    "Print out the 10 topics. Running mglearn requires sklearn <= 0.22"
   ]
  },
  {
   "cell_type": "code",
   "execution_count": 26,
   "metadata": {},
   "outputs": [
    {
     "ename": "ModuleNotFoundError",
     "evalue": "No module named 'sklearn.externals.six'",
     "output_type": "error",
     "traceback": [
      "\u001b[1;31m---------------------------------------------------------------------------\u001b[0m",
      "\u001b[1;31mModuleNotFoundError\u001b[0m                       Traceback (most recent call last)",
      "\u001b[1;32m<ipython-input-26-06c742660db6>\u001b[0m in \u001b[0;36m<module>\u001b[1;34m\u001b[0m\n\u001b[1;32m----> 1\u001b[1;33m \u001b[1;32mimport\u001b[0m \u001b[0mmglearn\u001b[0m\u001b[1;33m\u001b[0m\u001b[1;33m\u001b[0m\u001b[0m\n\u001b[0m\u001b[0;32m      2\u001b[0m mglearn.tools.print_topics(topics=range(10), feature_names=feature_names,\n\u001b[0;32m      3\u001b[0m                            sorting=sorting, topics_per_chunk=5, n_words=10)\n",
      "\u001b[1;32mC:\\test\\lib\\site-packages\\mglearn\\__init__.py\u001b[0m in \u001b[0;36m<module>\u001b[1;34m\u001b[0m\n\u001b[1;32m----> 1\u001b[1;33m \u001b[1;32mfrom\u001b[0m \u001b[1;33m.\u001b[0m \u001b[1;32mimport\u001b[0m \u001b[0mplots\u001b[0m\u001b[1;33m\u001b[0m\u001b[1;33m\u001b[0m\u001b[0m\n\u001b[0m\u001b[0;32m      2\u001b[0m \u001b[1;32mfrom\u001b[0m \u001b[1;33m.\u001b[0m \u001b[1;32mimport\u001b[0m \u001b[0mtools\u001b[0m\u001b[1;33m\u001b[0m\u001b[1;33m\u001b[0m\u001b[0m\n\u001b[0;32m      3\u001b[0m \u001b[1;32mfrom\u001b[0m \u001b[1;33m.\u001b[0m\u001b[0mplots\u001b[0m \u001b[1;32mimport\u001b[0m \u001b[0mcm3\u001b[0m\u001b[1;33m,\u001b[0m \u001b[0mcm2\u001b[0m\u001b[1;33m\u001b[0m\u001b[1;33m\u001b[0m\u001b[0m\n\u001b[0;32m      4\u001b[0m \u001b[1;32mfrom\u001b[0m \u001b[1;33m.\u001b[0m\u001b[0mtools\u001b[0m \u001b[1;32mimport\u001b[0m \u001b[0mdiscrete_scatter\u001b[0m\u001b[1;33m\u001b[0m\u001b[1;33m\u001b[0m\u001b[0m\n\u001b[0;32m      5\u001b[0m \u001b[1;32mfrom\u001b[0m \u001b[1;33m.\u001b[0m\u001b[0mplot_helpers\u001b[0m \u001b[1;32mimport\u001b[0m \u001b[0mReBl\u001b[0m\u001b[1;33m\u001b[0m\u001b[1;33m\u001b[0m\u001b[0m\n",
      "\u001b[1;32mC:\\test\\lib\\site-packages\\mglearn\\plots.py\u001b[0m in \u001b[0;36m<module>\u001b[1;34m\u001b[0m\n\u001b[0;32m      1\u001b[0m \u001b[1;32mfrom\u001b[0m \u001b[1;33m.\u001b[0m\u001b[0mplot_linear_svc_regularization\u001b[0m \u001b[1;32mimport\u001b[0m \u001b[0mplot_linear_svc_regularization\u001b[0m\u001b[1;33m\u001b[0m\u001b[1;33m\u001b[0m\u001b[0m\n\u001b[1;32m----> 2\u001b[1;33m \u001b[1;32mfrom\u001b[0m \u001b[1;33m.\u001b[0m\u001b[0mplot_interactive_tree\u001b[0m \u001b[1;32mimport\u001b[0m \u001b[0mplot_tree_progressive\u001b[0m\u001b[1;33m,\u001b[0m \u001b[0mplot_tree_partition\u001b[0m\u001b[1;33m\u001b[0m\u001b[1;33m\u001b[0m\u001b[0m\n\u001b[0m\u001b[0;32m      3\u001b[0m \u001b[1;32mfrom\u001b[0m \u001b[1;33m.\u001b[0m\u001b[0mplot_animal_tree\u001b[0m \u001b[1;32mimport\u001b[0m \u001b[0mplot_animal_tree\u001b[0m\u001b[1;33m\u001b[0m\u001b[1;33m\u001b[0m\u001b[0m\n\u001b[0;32m      4\u001b[0m \u001b[1;32mfrom\u001b[0m \u001b[1;33m.\u001b[0m\u001b[0mplot_rbf_svm_parameters\u001b[0m \u001b[1;32mimport\u001b[0m \u001b[0mplot_svm\u001b[0m\u001b[1;33m\u001b[0m\u001b[1;33m\u001b[0m\u001b[0m\n\u001b[0;32m      5\u001b[0m \u001b[1;32mfrom\u001b[0m \u001b[1;33m.\u001b[0m\u001b[0mplot_knn_regression\u001b[0m \u001b[1;32mimport\u001b[0m \u001b[0mplot_knn_regression\u001b[0m\u001b[1;33m\u001b[0m\u001b[1;33m\u001b[0m\u001b[0m\n",
      "\u001b[1;32mC:\\test\\lib\\site-packages\\mglearn\\plot_interactive_tree.py\u001b[0m in \u001b[0;36m<module>\u001b[1;34m\u001b[0m\n\u001b[0;32m      4\u001b[0m \u001b[1;32mfrom\u001b[0m \u001b[0msklearn\u001b[0m\u001b[1;33m.\u001b[0m\u001b[0mtree\u001b[0m \u001b[1;32mimport\u001b[0m \u001b[0mDecisionTreeClassifier\u001b[0m\u001b[1;33m\u001b[0m\u001b[1;33m\u001b[0m\u001b[0m\n\u001b[0;32m      5\u001b[0m \u001b[1;33m\u001b[0m\u001b[0m\n\u001b[1;32m----> 6\u001b[1;33m \u001b[1;32mfrom\u001b[0m \u001b[0msklearn\u001b[0m\u001b[1;33m.\u001b[0m\u001b[0mexternals\u001b[0m\u001b[1;33m.\u001b[0m\u001b[0msix\u001b[0m \u001b[1;32mimport\u001b[0m \u001b[0mStringIO\u001b[0m  \u001b[1;31m# doctest: +SKIP\u001b[0m\u001b[1;33m\u001b[0m\u001b[1;33m\u001b[0m\u001b[0m\n\u001b[0m\u001b[0;32m      7\u001b[0m \u001b[1;32mfrom\u001b[0m \u001b[0msklearn\u001b[0m\u001b[1;33m.\u001b[0m\u001b[0mtree\u001b[0m \u001b[1;32mimport\u001b[0m \u001b[0mexport_graphviz\u001b[0m\u001b[1;33m\u001b[0m\u001b[1;33m\u001b[0m\u001b[0m\n\u001b[0;32m      8\u001b[0m \u001b[1;32mfrom\u001b[0m \u001b[0mimageio\u001b[0m \u001b[1;32mimport\u001b[0m \u001b[0mimread\u001b[0m\u001b[1;33m\u001b[0m\u001b[1;33m\u001b[0m\u001b[0m\n",
      "\u001b[1;31mModuleNotFoundError\u001b[0m: No module named 'sklearn.externals.six'"
     ]
    }
   ],
   "source": [
    "import mglearn\n",
    "mglearn.tools.print_topics(topics=range(10), feature_names=feature_names,\n",
    "                           sorting=sorting, topics_per_chunk=5, n_words=10)"
   ]
  },
  {
   "cell_type": "markdown",
   "metadata": {},
   "source": [
    "We can also look at how often the news articles are published."
   ]
  },
  {
   "cell_type": "code",
   "execution_count": 27,
   "metadata": {},
   "outputs": [
    {
     "data": {
      "text/html": [
       "<div>\n",
       "<style scoped>\n",
       "    .dataframe tbody tr th:only-of-type {\n",
       "        vertical-align: middle;\n",
       "    }\n",
       "\n",
       "    .dataframe tbody tr th {\n",
       "        vertical-align: top;\n",
       "    }\n",
       "\n",
       "    .dataframe thead th {\n",
       "        text-align: right;\n",
       "    }\n",
       "</style>\n",
       "<table border=\"1\" class=\"dataframe\">\n",
       "  <thead>\n",
       "    <tr style=\"text-align: right;\">\n",
       "      <th></th>\n",
       "      <th>publish_date</th>\n",
       "      <th>headline_text</th>\n",
       "      <th>year</th>\n",
       "    </tr>\n",
       "  </thead>\n",
       "  <tbody>\n",
       "    <tr>\n",
       "      <th>0</th>\n",
       "      <td>2004-02-01</td>\n",
       "      <td>elderly man found dead</td>\n",
       "      <td>2004</td>\n",
       "    </tr>\n",
       "    <tr>\n",
       "      <th>1</th>\n",
       "      <td>2014-08-28</td>\n",
       "      <td>cairns double murder trial jury starts deliber...</td>\n",
       "      <td>2014</td>\n",
       "    </tr>\n",
       "    <tr>\n",
       "      <th>2</th>\n",
       "      <td>2014-06-27</td>\n",
       "      <td>alice spings residents rally to support house ...</td>\n",
       "      <td>2014</td>\n",
       "    </tr>\n",
       "    <tr>\n",
       "      <th>3</th>\n",
       "      <td>2008-07-24</td>\n",
       "      <td>jacqui lawrence sibling rivalry makes way for</td>\n",
       "      <td>2008</td>\n",
       "    </tr>\n",
       "    <tr>\n",
       "      <th>4</th>\n",
       "      <td>2015-09-03</td>\n",
       "      <td>water shortages force png hospital to send</td>\n",
       "      <td>2015</td>\n",
       "    </tr>\n",
       "    <tr>\n",
       "      <th>5</th>\n",
       "      <td>2003-06-01</td>\n",
       "      <td>glory facing player exodus</td>\n",
       "      <td>2003</td>\n",
       "    </tr>\n",
       "    <tr>\n",
       "      <th>6</th>\n",
       "      <td>2003-12-28</td>\n",
       "      <td>troops dead in iraq blasts</td>\n",
       "      <td>2003</td>\n",
       "    </tr>\n",
       "    <tr>\n",
       "      <th>7</th>\n",
       "      <td>2015-06-19</td>\n",
       "      <td>federal road funding not enough for northern r...</td>\n",
       "      <td>2015</td>\n",
       "    </tr>\n",
       "    <tr>\n",
       "      <th>8</th>\n",
       "      <td>2008-12-23</td>\n",
       "      <td>rta flooded with highway upgrade submissions</td>\n",
       "      <td>2008</td>\n",
       "    </tr>\n",
       "    <tr>\n",
       "      <th>9</th>\n",
       "      <td>2011-05-22</td>\n",
       "      <td>anti planker hurt in planking demo</td>\n",
       "      <td>2011</td>\n",
       "    </tr>\n",
       "  </tbody>\n",
       "</table>\n",
       "</div>"
      ],
      "text/plain": [
       "  publish_date                                      headline_text  year\n",
       "0   2004-02-01                             elderly man found dead  2004\n",
       "1   2014-08-28  cairns double murder trial jury starts deliber...  2014\n",
       "2   2014-06-27  alice spings residents rally to support house ...  2014\n",
       "3   2008-07-24      jacqui lawrence sibling rivalry makes way for  2008\n",
       "4   2015-09-03         water shortages force png hospital to send  2015\n",
       "5   2003-06-01                         glory facing player exodus  2003\n",
       "6   2003-12-28                         troops dead in iraq blasts  2003\n",
       "7   2015-06-19  federal road funding not enough for northern r...  2015\n",
       "8   2008-12-23       rta flooded with highway upgrade submissions  2008\n",
       "9   2011-05-22                 anti planker hurt in planking demo  2011"
      ]
     },
     "execution_count": 27,
     "metadata": {},
     "output_type": "execute_result"
    }
   ],
   "source": [
    "df.head(10)"
   ]
  },
  {
   "cell_type": "code",
   "execution_count": 28,
   "metadata": {},
   "outputs": [
    {
     "data": {
      "text/plain": [
       "array([2004, 2014, 2008, 2015, 2003, 2011, 2006, 2009, 2007, 2005, 2013,\n",
       "       2018, 2017, 2019, 2012, 2016, 2010], dtype=int64)"
      ]
     },
     "execution_count": 28,
     "metadata": {},
     "output_type": "execute_result"
    }
   ],
   "source": [
    "df.year.unique()"
   ]
  },
  {
   "cell_type": "code",
   "execution_count": 29,
   "metadata": {},
   "outputs": [
    {
     "data": {
      "text/html": [
       "<div>\n",
       "<style scoped>\n",
       "    .dataframe tbody tr th:only-of-type {\n",
       "        vertical-align: middle;\n",
       "    }\n",
       "\n",
       "    .dataframe tbody tr th {\n",
       "        vertical-align: top;\n",
       "    }\n",
       "\n",
       "    .dataframe thead th {\n",
       "        text-align: right;\n",
       "    }\n",
       "</style>\n",
       "<table border=\"1\" class=\"dataframe\">\n",
       "  <thead>\n",
       "    <tr style=\"text-align: right;\">\n",
       "      <th></th>\n",
       "      <th>publish_date</th>\n",
       "      <th>headline_text</th>\n",
       "      <th>year</th>\n",
       "    </tr>\n",
       "  </thead>\n",
       "  <tbody>\n",
       "    <tr>\n",
       "      <th>0</th>\n",
       "      <td>2004-02-01</td>\n",
       "      <td>elderly man found dead</td>\n",
       "      <td>2004</td>\n",
       "    </tr>\n",
       "    <tr>\n",
       "      <th>1</th>\n",
       "      <td>2014-08-28</td>\n",
       "      <td>cairns double murder trial jury starts deliber...</td>\n",
       "      <td>2014</td>\n",
       "    </tr>\n",
       "    <tr>\n",
       "      <th>2</th>\n",
       "      <td>2014-06-27</td>\n",
       "      <td>alice spings residents rally to support house ...</td>\n",
       "      <td>2014</td>\n",
       "    </tr>\n",
       "    <tr>\n",
       "      <th>3</th>\n",
       "      <td>2008-07-24</td>\n",
       "      <td>jacqui lawrence sibling rivalry makes way for</td>\n",
       "      <td>2008</td>\n",
       "    </tr>\n",
       "    <tr>\n",
       "      <th>4</th>\n",
       "      <td>2015-09-03</td>\n",
       "      <td>water shortages force png hospital to send</td>\n",
       "      <td>2015</td>\n",
       "    </tr>\n",
       "    <tr>\n",
       "      <th>...</th>\n",
       "      <td>...</td>\n",
       "      <td>...</td>\n",
       "      <td>...</td>\n",
       "    </tr>\n",
       "    <tr>\n",
       "      <th>1186003</th>\n",
       "      <td>2013-07-31</td>\n",
       "      <td>icac findings</td>\n",
       "      <td>2013</td>\n",
       "    </tr>\n",
       "    <tr>\n",
       "      <th>1186004</th>\n",
       "      <td>2003-07-28</td>\n",
       "      <td>water pipeline to go ahead</td>\n",
       "      <td>2003</td>\n",
       "    </tr>\n",
       "    <tr>\n",
       "      <th>1186005</th>\n",
       "      <td>2006-07-15</td>\n",
       "      <td>greens say act planning laws remove public input</td>\n",
       "      <td>2006</td>\n",
       "    </tr>\n",
       "    <tr>\n",
       "      <th>1186006</th>\n",
       "      <td>2008-12-08</td>\n",
       "      <td>property tax bills outrageousbuswell</td>\n",
       "      <td>2008</td>\n",
       "    </tr>\n",
       "    <tr>\n",
       "      <th>1186007</th>\n",
       "      <td>2005-09-22</td>\n",
       "      <td>wa govt boosts counter terrorism spending</td>\n",
       "      <td>2005</td>\n",
       "    </tr>\n",
       "  </tbody>\n",
       "</table>\n",
       "<p>1186008 rows × 3 columns</p>\n",
       "</div>"
      ],
      "text/plain": [
       "        publish_date                                      headline_text  year\n",
       "0         2004-02-01                             elderly man found dead  2004\n",
       "1         2014-08-28  cairns double murder trial jury starts deliber...  2014\n",
       "2         2014-06-27  alice spings residents rally to support house ...  2014\n",
       "3         2008-07-24      jacqui lawrence sibling rivalry makes way for  2008\n",
       "4         2015-09-03         water shortages force png hospital to send  2015\n",
       "...              ...                                                ...   ...\n",
       "1186003   2013-07-31                                      icac findings  2013\n",
       "1186004   2003-07-28                         water pipeline to go ahead  2003\n",
       "1186005   2006-07-15   greens say act planning laws remove public input  2006\n",
       "1186006   2008-12-08               property tax bills outrageousbuswell  2008\n",
       "1186007   2005-09-22          wa govt boosts counter terrorism spending  2005\n",
       "\n",
       "[1186008 rows x 3 columns]"
      ]
     },
     "execution_count": 29,
     "metadata": {},
     "output_type": "execute_result"
    }
   ],
   "source": [
    "df.head(-10)"
   ]
  },
  {
   "cell_type": "code",
   "execution_count": 30,
   "metadata": {},
   "outputs": [
    {
     "data": {
      "text/plain": [
       "year\n",
       "2003    63997\n",
       "2004    72674\n",
       "2005    73124\n",
       "2006    66901\n",
       "2007    77174\n",
       "2008    79991\n",
       "2009    76444\n",
       "2010    74931\n",
       "2011    77778\n",
       "2012    89008\n",
       "2013    91928\n",
       "2014    81531\n",
       "2015    77290\n",
       "2016    61574\n",
       "2017    47511\n",
       "2018    40102\n",
       "2019    34060\n",
       "Name: headline_text, dtype: int64"
      ]
     },
     "execution_count": 30,
     "metadata": {},
     "output_type": "execute_result"
    }
   ],
   "source": [
    "dfa = df.groupby('year')['headline_text'].count()\n",
    "dfa"
   ]
  },
  {
   "cell_type": "code",
   "execution_count": 31,
   "metadata": {},
   "outputs": [
    {
     "data": {
      "text/plain": [
       "DatetimeIndex(['2004-02-01', '2014-08-28', '2014-06-27', '2008-07-24',\n",
       "               '2015-09-03', '2003-06-01', '2003-12-28', '2015-06-19',\n",
       "               '2008-12-23', '2011-05-22',\n",
       "               ...\n",
       "               '2010-04-20', '2013-01-02', '2015-02-13', '2007-10-11',\n",
       "               '2019-12-04', '2012-10-11', '2011-01-04', '2011-10-04',\n",
       "               '2017-03-16', '2013-03-19'],\n",
       "              dtype='datetime64[ns]', name='publish_date', length=1186018, freq=None)"
      ]
     },
     "execution_count": 31,
     "metadata": {},
     "output_type": "execute_result"
    }
   ],
   "source": [
    "#Index the date\n",
    "df = df.set_index('publish_date')\n",
    "df.index"
   ]
  },
  {
   "cell_type": "markdown",
   "metadata": {},
   "source": [
    "We can resample the publish dates and aggregate by the month."
   ]
  },
  {
   "cell_type": "code",
   "execution_count": 32,
   "metadata": {},
   "outputs": [
    {
     "data": {
      "text/plain": [
       "publish_date\n",
       "2003-02-01    2180\n",
       "2003-03-01    6410\n",
       "2003-04-01    6101\n",
       "2003-05-01    6399\n",
       "2003-06-01    6346\n",
       "              ... \n",
       "2019-08-01    2953\n",
       "2019-09-01    2828\n",
       "2019-10-01    3016\n",
       "2019-11-01    2768\n",
       "2019-12-01    2471\n",
       "Freq: MS, Name: headline_text, Length: 203, dtype: int64"
      ]
     },
     "execution_count": 32,
     "metadata": {},
     "output_type": "execute_result"
    }
   ],
   "source": [
    "y = df['headline_text'].resample('MS').count()\n",
    "y"
   ]
  },
  {
   "cell_type": "code",
   "execution_count": 33,
   "metadata": {},
   "outputs": [
    {
     "name": "stderr",
     "output_type": "stream",
     "text": [
      "C:\\test\\lib\\site-packages\\ipywidgets\\widgets\\widget_selection.py:9: DeprecationWarning: Using or importing the ABCs from 'collections' instead of from 'collections.abc' is deprecated, and in 3.8 it will stop working\n",
      "  from collections import Mapping, Iterable\n",
      "C:\\test\\lib\\site-packages\\ipywidgets\\widgets\\widget_selection.py:9: DeprecationWarning: Using or importing the ABCs from 'collections' instead of from 'collections.abc' is deprecated, and in 3.8 it will stop working\n",
      "  from collections import Mapping, Iterable\n"
     ]
    },
    {
     "data": {
      "image/png": "[encoded data removed]",
      "text/plain": [
       "<Figure size 864x360 with 1 Axes>"
      ]
     },
     "metadata": {
      "needs_background": "light"
     },
     "output_type": "display_data"
    }
   ],
   "source": [
    "%matplotlib inline\n",
    "import matplotlib.pyplot as plt\n",
    "import seaborn as sns\n",
    "\n",
    "y.plot(figsize=(12,5))\n",
    "plt.show()"
   ]
  },
  {
   "cell_type": "code",
   "execution_count": null,
   "metadata": {},
   "outputs": [],
   "source": []
  }
 ],
 "metadata": {
  "kernelspec": {
   "display_name": "Python 3",
   "language": "python",
   "name": "python3"
  },
  "language_info": {
   "codemirror_mode": {
    "name": "ipython",
    "version": 3
   },
   "file_extension": ".py",
   "mimetype": "text/x-python",
   "name": "python",
   "nbconvert_exporter": "python",
   "pygments_lexer": "ipython3",
   "version": "3.7.3"
  }
 },
 "nbformat": 4,
 "nbformat_minor": 4
}
